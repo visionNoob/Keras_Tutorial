{
  "nbformat": 4,
  "nbformat_minor": 0,
  "metadata": {
    "accelerator": "GPU",
    "colab": {
      "name": "Keras_1_CNN.ipynb",
      "provenance": [],
      "collapsed_sections": [],
      "include_colab_link": true
    },
    "kernelspec": {
      "name": "python3",
      "display_name": "Python 3"
    },
    "language_info": {
      "codemirror_mode": {
        "name": "ipython",
        "version": 3
      },
      "file_extension": ".py",
      "mimetype": "text/x-python",
      "name": "python",
      "nbconvert_exporter": "python",
      "pygments_lexer": "ipython3",
      "version": "3.7.3"
    }
  },
  "cells": [
    {
      "cell_type": "markdown",
      "metadata": {
        "id": "view-in-github",
        "colab_type": "text"
      },
      "source": [
        "<a href=\"https://colab.research.google.com/github/visionNoob/Keras_Tutorial/blob/master/Keras_1_CNN.ipynb\" target=\"_parent\"><img src=\"https://colab.research.google.com/assets/colab-badge.svg\" alt=\"Open In Colab\"/></a>"
      ]
    },
    {
      "cell_type": "markdown",
      "metadata": {
        "colab_type": "text",
        "id": "z8juHB30ID_y"
      },
      "source": [
        "# Convolutional Neural Network"
      ]
    },
    {
      "cell_type": "markdown",
      "metadata": {
        "id": "2rC4cBMclMBL",
        "colab_type": "text"
      },
      "source": [
        "# 1. 라이브러리 불러오기"
      ]
    },
    {
      "cell_type": "code",
      "metadata": {
        "colab_type": "code",
        "outputId": "5a4a538a-f205-4c58-bbf7-610d5ee8ccbe",
        "id": "gGoUgyQde1B0",
        "colab": {
          "base_uri": "https://localhost:8080/",
          "height": 68
        }
      },
      "source": [
        "# 1.라이브러리 불러오기\n",
        "import tensorflow as tf # 딥러닝 라이브러리\n",
        "import keras # 딥러닝 라이브러리\n",
        "import numpy as np # 수학 계산 라이브러리\n",
        "import matplotlib.pyplot as plt # 그래프 그리는 라이브러리 \n",
        "\n",
        "# 항상 버전 확인은 필수\n",
        "print(tf.__version__)\n",
        "print(keras.__version__)"
      ],
      "execution_count": 1,
      "outputs": [
        {
          "output_type": "stream",
          "text": [
            "1.15.0-rc3\n",
            "2.2.5\n"
          ],
          "name": "stdout"
        },
        {
          "output_type": "stream",
          "text": [
            "Using TensorFlow backend.\n"
          ],
          "name": "stderr"
        }
      ]
    },
    {
      "cell_type": "markdown",
      "metadata": {
        "id": "_1iSQmcglOT_",
        "colab_type": "text"
      },
      "source": [
        "# 2. 랜덤 시드 설정하기 (중요!)\n",
        "https://keras.io/getting-started/faq/#how-can-i-obtain-reproducible-results-using-keras-during-development"
      ]
    },
    {
      "cell_type": "code",
      "metadata": {
        "id": "wkdun6usk2B9",
        "colab_type": "code",
        "colab": {}
      },
      "source": [
        "# 2.랜덤 시드 고정하기\n",
        "import random\n",
        "seed_value = 42 # 랜덤 시드 ; 삶, 우주, 그리고 모든 것에 대한 궁극적인 질문에 대한 해답.\n",
        "\n",
        "random.seed(seed_value)\n",
        "np.random.seed(seed_value)\n",
        "tf.set_random_seed(seed_value)"
      ],
      "execution_count": 0,
      "outputs": []
    },
    {
      "cell_type": "code",
      "metadata": {
        "id": "RCFlsHLNzswv",
        "colab_type": "code",
        "colab": {}
      },
      "source": [
        ""
      ],
      "execution_count": 0,
      "outputs": []
    },
    {
      "cell_type": "markdown",
      "metadata": {
        "colab_type": "text",
        "id": "6UTdIW-gJWwr"
      },
      "source": [
        "# 3. 데이터셋"
      ]
    },
    {
      "cell_type": "code",
      "metadata": {
        "colab_type": "code",
        "id": "R6EeL-OAJpKd",
        "colab": {}
      },
      "source": [
        "img_rows = 28\n",
        "img_cols = 28\n",
        "\n",
        "def preprocess_data(data, label):\n",
        "  from keras import backend as K\n",
        "  if K.image_data_format() == 'channels_first':\n",
        "    data = data.reshape(data.shape[0], 1, img_rows, img_cols)\n",
        "  else:\n",
        "    data = data.reshape(data.shape[0], img_rows, img_cols, 1)\n",
        "\n",
        "  return (data / 255., (keras.utils.np_utils.to_categorical(label)))\n",
        "\n",
        "from keras.datasets import mnist\n",
        "(x_train, y_train), (x_test, y_test) = mnist.load_data()\n",
        "\n",
        "x_train, y_train = preprocess_data(x_train, y_train)\n",
        "x_test, y_test = preprocess_data(x_test, y_test)\n"
      ],
      "execution_count": 0,
      "outputs": []
    },
    {
      "cell_type": "code",
      "metadata": {
        "id": "X-puDkynCvBd",
        "colab_type": "code",
        "outputId": "b13c4497-7c68-4222-b050-3c6419f47a2b",
        "colab": {
          "base_uri": "https://localhost:8080/",
          "height": 286
        }
      },
      "source": [
        "print(x_train.shape)\n",
        "plt.imshow(x_train[0,:,:,0])\n",
        "plt.show()"
      ],
      "execution_count": 17,
      "outputs": [
        {
          "output_type": "stream",
          "text": [
            "(60000, 28, 28, 1)\n"
          ],
          "name": "stdout"
        },
        {
          "output_type": "display_data",
          "data": {
            "image/png": "[encoded data removed]",
            "text/plain": [
              "<Figure size 432x288 with 1 Axes>"
            ]
          },
          "metadata": {
            "tags": []
          }
        }
      ]
    },
    {
      "cell_type": "markdown",
      "metadata": {
        "colab_type": "text",
        "id": "olIAgNvrJ1WO"
      },
      "source": [
        "# 4. 모델 만들기"
      ]
    },
    {
      "cell_type": "code",
      "metadata": {
        "colab_type": "code",
        "id": "31iigy8iLqcO",
        "colab": {}
      },
      "source": [
        "# 4.모델 만들기\n",
        "model = keras.models.Sequential()\n",
        "model.add(keras.layers.Flatten(input_shape=(28,28,1)))\n",
        "model.add(keras.layers.Dense(units=16, activation='relu'))\n",
        "model.add(keras.layers.Dense(units=16, activation='relu'))\n",
        "model.add(keras.layers.Dense(units=10, activation='softmax'))\n"
      ],
      "execution_count": 0,
      "outputs": []
    },
    {
      "cell_type": "code",
      "metadata": {
        "id": "RSRk-NTi0yHH",
        "colab_type": "code",
        "colab": {}
      },
      "source": [
        "from keras.models import Sequential\n",
        "from keras.layers import Conv2D\n",
        "from keras.layers import MaxPooling2D\n",
        "from keras.layers import Dense\n",
        "from keras.layers import Flatten\n",
        "\n",
        "model = Sequential()\n",
        "model.add(Conv2D(filters=32, kernel_size=(3, 3), padding='same',activation='relu', input_shape=(28, 28, 1)))\n",
        "model.add(Conv2D(64, (3, 3), padding='same',activation='relu'))\n",
        "model.add(MaxPooling2D(pool_size=(2, 2)))\n",
        "model.add(Flatten())\n",
        "model.add(Dense(128, activation='relu'))\n",
        "model.add(Dense(10, activation='softmax'))"
      ],
      "execution_count": 0,
      "outputs": []
    },
    {
      "cell_type": "markdown",
      "metadata": {
        "id": "u6-4-3df15Ex",
        "colab_type": "text"
      },
      "source": [
        "# CNN with padding='same', kernel_size=(3,3)\n",
        "**input = 5x5, output = 5x5** . \n",
        "\n",
        "![cnn](https://cdn-media-1.freecodecamp.org/images/d0ufdQE7LHA43cdSrVefw2I9DFceYMixqoZJ)\n",
        "\n",
        "# CNN with padding=None, kernel_size=(3,3)\n",
        "**input = 7x7, output = 5x5** . \n",
        "\n",
        "![cnn](https://raw.githubusercontent.com/iamaaditya/iamaaditya.github.io/master/images/conv_arithmetic/full_padding_no_strides_transposed.gif)\n",
        "\n",
        "# MaxPool\n",
        "![maxPool](http://cs231n.github.io/assets/cnn/maxpool.jpeg)"
      ]
    },
    {
      "cell_type": "code",
      "metadata": {
        "id": "weSEgSbBGQJ9",
        "colab_type": "code",
        "outputId": "eb8d176c-ed5c-4e93-cc4e-3c846e1575cf",
        "colab": {
          "base_uri": "https://localhost:8080/",
          "height": 357
        }
      },
      "source": [
        "model.summary()"
      ],
      "execution_count": 32,
      "outputs": [
        {
          "output_type": "stream",
          "text": [
            "Model: \"sequential_10\"\n",
            "_________________________________________________________________\n",
            "Layer (type)                 Output Shape              Param #   \n",
            "=================================================================\n",
            "conv2d_9 (Conv2D)            (None, 28, 28, 32)        320       \n",
            "_________________________________________________________________\n",
            "conv2d_10 (Conv2D)           (None, 28, 28, 64)        18496     \n",
            "_________________________________________________________________\n",
            "max_pooling2d_5 (MaxPooling2 (None, 14, 14, 64)        0         \n",
            "_________________________________________________________________\n",
            "flatten_7 (Flatten)          (None, 12544)             0         \n",
            "_________________________________________________________________\n",
            "dense_15 (Dense)             (None, 128)               1605760   \n",
            "_________________________________________________________________\n",
            "dense_16 (Dense)             (None, 10)                1290      \n",
            "=================================================================\n",
            "Total params: 1,625,866\n",
            "Trainable params: 1,625,866\n",
            "Non-trainable params: 0\n",
            "_________________________________________________________________\n"
          ],
          "name": "stdout"
        }
      ]
    },
    {
      "cell_type": "markdown",
      "metadata": {
        "id": "hV7QUTceh04D",
        "colab_type": "text"
      },
      "source": [
        "# 5. 모델 학습과정 설정하기"
      ]
    },
    {
      "cell_type": "code",
      "metadata": {
        "id": "FZyrzmBGh0M3",
        "colab_type": "code",
        "colab": {
          "base_uri": "https://localhost:8080/",
          "height": 105
        },
        "outputId": "3898cb10-c940-4630-e5aa-3a1b5605f39c"
      },
      "source": [
        "# 5.모델 학습과정 설정하기\n",
        "# sgd = keras.optimizers.SGD(learning_rate=0.01, momentum=0.0, nesterov=False)\n",
        "model.compile(loss='categorical_crossentropy', optimizer='sgd', metrics=['accuracy'])"
      ],
      "execution_count": 26,
      "outputs": [
        {
          "output_type": "stream",
          "text": [
            "WARNING:tensorflow:From /usr/local/lib/python3.6/dist-packages/keras/optimizers.py:793: The name tf.train.Optimizer is deprecated. Please use tf.compat.v1.train.Optimizer instead.\n",
            "\n",
            "WARNING:tensorflow:From /usr/local/lib/python3.6/dist-packages/keras/backend/tensorflow_backend.py:3576: The name tf.log is deprecated. Please use tf.math.log instead.\n",
            "\n"
          ],
          "name": "stdout"
        }
      ]
    },
    {
      "cell_type": "code",
      "metadata": {
        "id": "hxUlxR9IbpnH",
        "colab_type": "code",
        "colab": {}
      },
      "source": [
        "#es =  keras.callbacks.EarlyStopping(monitor='val_loss', mode='min', verbose=1, patience=20)"
      ],
      "execution_count": 0,
      "outputs": []
    },
    {
      "cell_type": "markdown",
      "metadata": {
        "id": "kve2dqLDcGOF",
        "colab_type": "text"
      },
      "source": [
        ""
      ]
    },
    {
      "cell_type": "markdown",
      "metadata": {
        "id": "5F-H6VxQiCDN",
        "colab_type": "text"
      },
      "source": [
        "# 6. 모델 학습시키기"
      ]
    },
    {
      "cell_type": "code",
      "metadata": {
        "id": "zt8byFA7UczS",
        "colab_type": "code",
        "outputId": "fca4067f-46e2-4d11-b3f4-a841a5840fa0",
        "colab": {
          "base_uri": "https://localhost:8080/",
          "height": 1000
        }
      },
      "source": [
        "# 6.모델 학습시키기\n",
        "history = model.fit(x_train, y_train, validation_split=0.2, shuffle=True, epochs=100, batch_size=512, callbacks=[])"
      ],
      "execution_count": 28,
      "outputs": [
        {
          "output_type": "stream",
          "text": [
            "WARNING:tensorflow:From /usr/local/lib/python3.6/dist-packages/tensorflow_core/python/ops/math_grad.py:1424: where (from tensorflow.python.ops.array_ops) is deprecated and will be removed in a future version.\n",
            "Instructions for updating:\n",
            "Use tf.where in 2.0, which has the same broadcast rule as np.where\n",
            "WARNING:tensorflow:From /usr/local/lib/python3.6/dist-packages/keras/backend/tensorflow_backend.py:1033: The name tf.assign_add is deprecated. Please use tf.compat.v1.assign_add instead.\n",
            "\n",
            "WARNING:tensorflow:From /usr/local/lib/python3.6/dist-packages/keras/backend/tensorflow_backend.py:1020: The name tf.assign is deprecated. Please use tf.compat.v1.assign instead.\n",
            "\n",
            "WARNING:tensorflow:From /usr/local/lib/python3.6/dist-packages/keras/backend/tensorflow_backend.py:3005: The name tf.Session is deprecated. Please use tf.compat.v1.Session instead.\n",
            "\n",
            "Train on 48000 samples, validate on 12000 samples\n",
            "Epoch 1/100\n",
            "WARNING:tensorflow:From /usr/local/lib/python3.6/dist-packages/keras/backend/tensorflow_backend.py:190: The name tf.get_default_session is deprecated. Please use tf.compat.v1.get_default_session instead.\n",
            "\n",
            "WARNING:tensorflow:From /usr/local/lib/python3.6/dist-packages/keras/backend/tensorflow_backend.py:197: The name tf.ConfigProto is deprecated. Please use tf.compat.v1.ConfigProto instead.\n",
            "\n",
            "WARNING:tensorflow:From /usr/local/lib/python3.6/dist-packages/keras/backend/tensorflow_backend.py:207: The name tf.global_variables is deprecated. Please use tf.compat.v1.global_variables instead.\n",
            "\n",
            "WARNING:tensorflow:From /usr/local/lib/python3.6/dist-packages/keras/backend/tensorflow_backend.py:216: The name tf.is_variable_initialized is deprecated. Please use tf.compat.v1.is_variable_initialized instead.\n",
            "\n",
            "WARNING:tensorflow:From /usr/local/lib/python3.6/dist-packages/keras/backend/tensorflow_backend.py:223: The name tf.variables_initializer is deprecated. Please use tf.compat.v1.variables_initializer instead.\n",
            "\n",
            "48000/48000 [==============================] - 13s 265us/step - loss: 2.1896 - acc: 0.3725 - val_loss: 1.9040 - val_acc: 0.6963\n",
            "Epoch 2/100\n",
            "48000/48000 [==============================] - 5s 104us/step - loss: 1.0336 - acc: 0.7987 - val_loss: 0.4619 - val_acc: 0.8773\n",
            "Epoch 3/100\n",
            "48000/48000 [==============================] - 5s 104us/step - loss: 0.4232 - acc: 0.8800 - val_loss: 0.3464 - val_acc: 0.8992\n",
            "Epoch 4/100\n",
            "48000/48000 [==============================] - 5s 104us/step - loss: 0.3501 - acc: 0.8969 - val_loss: 0.3088 - val_acc: 0.9105\n",
            "Epoch 5/100\n",
            "48000/48000 [==============================] - 5s 105us/step - loss: 0.3186 - acc: 0.9069 - val_loss: 0.2851 - val_acc: 0.9177\n",
            "Epoch 6/100\n",
            "48000/48000 [==============================] - 5s 105us/step - loss: 0.2946 - acc: 0.9131 - val_loss: 0.2661 - val_acc: 0.9232\n",
            "Epoch 7/100\n",
            "48000/48000 [==============================] - 5s 104us/step - loss: 0.2752 - acc: 0.9187 - val_loss: 0.2474 - val_acc: 0.9279\n",
            "Epoch 8/100\n",
            "48000/48000 [==============================] - 5s 104us/step - loss: 0.2601 - acc: 0.9242 - val_loss: 0.2446 - val_acc: 0.9292\n",
            "Epoch 9/100\n",
            "48000/48000 [==============================] - 5s 104us/step - loss: 0.2445 - acc: 0.9279 - val_loss: 0.2319 - val_acc: 0.9319\n",
            "Epoch 10/100\n",
            "48000/48000 [==============================] - 5s 104us/step - loss: 0.2309 - acc: 0.9325 - val_loss: 0.2363 - val_acc: 0.9302\n",
            "Epoch 11/100\n",
            "48000/48000 [==============================] - 5s 104us/step - loss: 0.2170 - acc: 0.9371 - val_loss: 0.2018 - val_acc: 0.9414\n",
            "Epoch 12/100\n",
            "48000/48000 [==============================] - 5s 104us/step - loss: 0.2080 - acc: 0.9390 - val_loss: 0.1931 - val_acc: 0.9451\n",
            "Epoch 13/100\n",
            "48000/48000 [==============================] - 5s 103us/step - loss: 0.1972 - acc: 0.9420 - val_loss: 0.2060 - val_acc: 0.9420\n",
            "Epoch 14/100\n",
            "48000/48000 [==============================] - 5s 105us/step - loss: 0.1881 - acc: 0.9442 - val_loss: 0.1845 - val_acc: 0.9453\n",
            "Epoch 15/100\n",
            "48000/48000 [==============================] - 5s 104us/step - loss: 0.1782 - acc: 0.9472 - val_loss: 0.1687 - val_acc: 0.9506\n",
            "Epoch 16/100\n",
            "48000/48000 [==============================] - 5s 105us/step - loss: 0.1706 - acc: 0.9495 - val_loss: 0.1639 - val_acc: 0.9521\n",
            "Epoch 17/100\n",
            "48000/48000 [==============================] - 5s 105us/step - loss: 0.1611 - acc: 0.9529 - val_loss: 0.1702 - val_acc: 0.9512\n",
            "Epoch 18/100\n",
            "48000/48000 [==============================] - 5s 105us/step - loss: 0.1547 - acc: 0.9549 - val_loss: 0.1533 - val_acc: 0.9564\n",
            "Epoch 19/100\n",
            "48000/48000 [==============================] - 5s 105us/step - loss: 0.1479 - acc: 0.9565 - val_loss: 0.1538 - val_acc: 0.9552\n",
            "Epoch 20/100\n",
            "48000/48000 [==============================] - 5s 105us/step - loss: 0.1409 - acc: 0.9580 - val_loss: 0.1421 - val_acc: 0.9580\n",
            "Epoch 21/100\n",
            "48000/48000 [==============================] - 5s 103us/step - loss: 0.1385 - acc: 0.9585 - val_loss: 0.1440 - val_acc: 0.9580\n",
            "Epoch 22/100\n",
            "48000/48000 [==============================] - 5s 104us/step - loss: 0.1344 - acc: 0.9605 - val_loss: 0.1350 - val_acc: 0.9600\n",
            "Epoch 23/100\n",
            "48000/48000 [==============================] - 5s 103us/step - loss: 0.1285 - acc: 0.9617 - val_loss: 0.1361 - val_acc: 0.9615\n",
            "Epoch 24/100\n",
            "48000/48000 [==============================] - 5s 104us/step - loss: 0.1249 - acc: 0.9632 - val_loss: 0.1330 - val_acc: 0.9608\n",
            "Epoch 25/100\n",
            "48000/48000 [==============================] - 5s 104us/step - loss: 0.1189 - acc: 0.9650 - val_loss: 0.1305 - val_acc: 0.9609\n",
            "Epoch 26/100\n",
            "48000/48000 [==============================] - 5s 103us/step - loss: 0.1171 - acc: 0.9653 - val_loss: 0.1329 - val_acc: 0.9608\n",
            "Epoch 27/100\n",
            "48000/48000 [==============================] - 5s 104us/step - loss: 0.1128 - acc: 0.9664 - val_loss: 0.1314 - val_acc: 0.9595\n",
            "Epoch 28/100\n",
            "48000/48000 [==============================] - 5s 104us/step - loss: 0.1116 - acc: 0.9666 - val_loss: 0.1202 - val_acc: 0.9647\n",
            "Epoch 29/100\n",
            "48000/48000 [==============================] - 5s 103us/step - loss: 0.1059 - acc: 0.9681 - val_loss: 0.1208 - val_acc: 0.9638\n",
            "Epoch 30/100\n",
            "48000/48000 [==============================] - 5s 103us/step - loss: 0.1035 - acc: 0.9694 - val_loss: 0.1137 - val_acc: 0.9664\n",
            "Epoch 31/100\n",
            "48000/48000 [==============================] - 5s 104us/step - loss: 0.0995 - acc: 0.9704 - val_loss: 0.1103 - val_acc: 0.9667\n",
            "Epoch 32/100\n",
            "48000/48000 [==============================] - 5s 104us/step - loss: 0.0979 - acc: 0.9707 - val_loss: 0.1254 - val_acc: 0.9635\n",
            "Epoch 33/100\n",
            "48000/48000 [==============================] - 5s 103us/step - loss: 0.0937 - acc: 0.9725 - val_loss: 0.1096 - val_acc: 0.9681\n",
            "Epoch 34/100\n",
            "48000/48000 [==============================] - 5s 103us/step - loss: 0.0938 - acc: 0.9721 - val_loss: 0.1055 - val_acc: 0.9682\n",
            "Epoch 35/100\n",
            "48000/48000 [==============================] - 5s 104us/step - loss: 0.0899 - acc: 0.9727 - val_loss: 0.1136 - val_acc: 0.9673\n",
            "Epoch 36/100\n",
            "48000/48000 [==============================] - 5s 104us/step - loss: 0.0906 - acc: 0.9722 - val_loss: 0.1093 - val_acc: 0.9667\n",
            "Epoch 37/100\n",
            "48000/48000 [==============================] - 5s 104us/step - loss: 0.0872 - acc: 0.9740 - val_loss: 0.1068 - val_acc: 0.9685\n",
            "Epoch 38/100\n",
            "48000/48000 [==============================] - 5s 104us/step - loss: 0.0840 - acc: 0.9753 - val_loss: 0.1080 - val_acc: 0.9677\n",
            "Epoch 39/100\n",
            "48000/48000 [==============================] - 5s 104us/step - loss: 0.0840 - acc: 0.9744 - val_loss: 0.1005 - val_acc: 0.9702\n",
            "Epoch 40/100\n",
            "48000/48000 [==============================] - 5s 104us/step - loss: 0.0808 - acc: 0.9763 - val_loss: 0.1075 - val_acc: 0.9682\n",
            "Epoch 41/100\n",
            "48000/48000 [==============================] - 5s 103us/step - loss: 0.0780 - acc: 0.9772 - val_loss: 0.0996 - val_acc: 0.9712\n",
            "Epoch 42/100\n",
            "48000/48000 [==============================] - 5s 104us/step - loss: 0.0758 - acc: 0.9775 - val_loss: 0.0957 - val_acc: 0.9705\n",
            "Epoch 43/100\n",
            "48000/48000 [==============================] - 5s 104us/step - loss: 0.2867 - acc: 0.9472 - val_loss: 0.1126 - val_acc: 0.9667\n",
            "Epoch 44/100\n",
            "48000/48000 [==============================] - 5s 103us/step - loss: 0.0865 - acc: 0.9740 - val_loss: 0.1037 - val_acc: 0.9691\n",
            "Epoch 45/100\n",
            "48000/48000 [==============================] - 5s 104us/step - loss: 0.0782 - acc: 0.9771 - val_loss: 0.0970 - val_acc: 0.9715\n",
            "Epoch 46/100\n",
            "48000/48000 [==============================] - 5s 103us/step - loss: 0.0748 - acc: 0.9783 - val_loss: 0.0948 - val_acc: 0.9716\n",
            "Epoch 47/100\n",
            "48000/48000 [==============================] - 5s 104us/step - loss: 0.0727 - acc: 0.9782 - val_loss: 0.0951 - val_acc: 0.9706\n",
            "Epoch 48/100\n",
            "48000/48000 [==============================] - 5s 104us/step - loss: 0.0700 - acc: 0.9798 - val_loss: 0.0963 - val_acc: 0.9702\n",
            "Epoch 49/100\n",
            "48000/48000 [==============================] - 5s 103us/step - loss: 0.0686 - acc: 0.9796 - val_loss: 0.0967 - val_acc: 0.9709\n",
            "Epoch 50/100\n",
            "48000/48000 [==============================] - 5s 103us/step - loss: 0.0673 - acc: 0.9801 - val_loss: 0.0928 - val_acc: 0.9717\n",
            "Epoch 51/100\n",
            "48000/48000 [==============================] - 5s 103us/step - loss: 0.0654 - acc: 0.9808 - val_loss: 0.0889 - val_acc: 0.9724\n",
            "Epoch 52/100\n",
            "48000/48000 [==============================] - 5s 104us/step - loss: 0.0647 - acc: 0.9809 - val_loss: 0.0932 - val_acc: 0.9716\n",
            "Epoch 53/100\n",
            "48000/48000 [==============================] - 5s 104us/step - loss: 0.0626 - acc: 0.9818 - val_loss: 0.0887 - val_acc: 0.9735\n",
            "Epoch 54/100\n",
            "48000/48000 [==============================] - 5s 104us/step - loss: 0.0618 - acc: 0.9814 - val_loss: 0.0953 - val_acc: 0.9716\n",
            "Epoch 55/100\n",
            "48000/48000 [==============================] - 5s 104us/step - loss: 0.0601 - acc: 0.9820 - val_loss: 0.0875 - val_acc: 0.9734\n",
            "Epoch 56/100\n",
            "48000/48000 [==============================] - 5s 104us/step - loss: 0.0602 - acc: 0.9820 - val_loss: 0.0911 - val_acc: 0.9722\n",
            "Epoch 57/100\n",
            "48000/48000 [==============================] - 5s 104us/step - loss: 0.0589 - acc: 0.9829 - val_loss: 0.0863 - val_acc: 0.9745\n",
            "Epoch 58/100\n",
            "48000/48000 [==============================] - 5s 104us/step - loss: 0.0585 - acc: 0.9830 - val_loss: 0.0883 - val_acc: 0.9732\n",
            "Epoch 59/100\n",
            "48000/48000 [==============================] - 5s 104us/step - loss: 0.0560 - acc: 0.9836 - val_loss: 0.0831 - val_acc: 0.9757\n",
            "Epoch 60/100\n",
            "48000/48000 [==============================] - 5s 103us/step - loss: 0.0570 - acc: 0.9829 - val_loss: 0.0835 - val_acc: 0.9746\n",
            "Epoch 61/100\n",
            "48000/48000 [==============================] - 5s 104us/step - loss: 0.0555 - acc: 0.9839 - val_loss: 0.0895 - val_acc: 0.9728\n",
            "Epoch 62/100\n",
            "48000/48000 [==============================] - 5s 103us/step - loss: 0.0532 - acc: 0.9842 - val_loss: 0.0927 - val_acc: 0.9728\n",
            "Epoch 63/100\n",
            "48000/48000 [==============================] - 5s 103us/step - loss: 0.0524 - acc: 0.9855 - val_loss: 0.0896 - val_acc: 0.9727\n",
            "Epoch 64/100\n",
            "48000/48000 [==============================] - 5s 103us/step - loss: 0.0523 - acc: 0.9843 - val_loss: 0.0821 - val_acc: 0.9757\n",
            "Epoch 65/100\n",
            "48000/48000 [==============================] - 5s 104us/step - loss: 0.0515 - acc: 0.9849 - val_loss: 0.0815 - val_acc: 0.9768\n",
            "Epoch 66/100\n",
            "48000/48000 [==============================] - 5s 103us/step - loss: 0.0509 - acc: 0.9851 - val_loss: 0.0837 - val_acc: 0.9747\n",
            "Epoch 67/100\n",
            "48000/48000 [==============================] - 5s 104us/step - loss: 0.0503 - acc: 0.9849 - val_loss: 0.0832 - val_acc: 0.9752\n",
            "Epoch 68/100\n",
            "48000/48000 [==============================] - 5s 104us/step - loss: 0.0494 - acc: 0.9850 - val_loss: 0.0866 - val_acc: 0.9739\n",
            "Epoch 69/100\n",
            "48000/48000 [==============================] - 5s 103us/step - loss: 0.0486 - acc: 0.9854 - val_loss: 0.0888 - val_acc: 0.9731\n",
            "Epoch 70/100\n",
            "48000/48000 [==============================] - 5s 103us/step - loss: 0.0477 - acc: 0.9858 - val_loss: 0.0829 - val_acc: 0.9748\n",
            "Epoch 71/100\n",
            "48000/48000 [==============================] - 5s 103us/step - loss: 0.0472 - acc: 0.9860 - val_loss: 0.0890 - val_acc: 0.9737\n",
            "Epoch 72/100\n",
            "48000/48000 [==============================] - 5s 103us/step - loss: 0.0463 - acc: 0.9864 - val_loss: 0.0812 - val_acc: 0.9757\n",
            "Epoch 73/100\n",
            "48000/48000 [==============================] - 5s 103us/step - loss: 0.0449 - acc: 0.9868 - val_loss: 0.0881 - val_acc: 0.9739\n",
            "Epoch 74/100\n",
            "48000/48000 [==============================] - 5s 103us/step - loss: 0.0453 - acc: 0.9864 - val_loss: 0.0809 - val_acc: 0.9755\n",
            "Epoch 75/100\n",
            "48000/48000 [==============================] - 5s 103us/step - loss: 0.0442 - acc: 0.9868 - val_loss: 0.0807 - val_acc: 0.9756\n",
            "Epoch 76/100\n",
            "48000/48000 [==============================] - 5s 103us/step - loss: 0.0431 - acc: 0.9870 - val_loss: 0.0800 - val_acc: 0.9759\n",
            "Epoch 77/100\n",
            "48000/48000 [==============================] - 5s 103us/step - loss: 0.0420 - acc: 0.9875 - val_loss: 0.0953 - val_acc: 0.9705\n",
            "Epoch 78/100\n",
            "48000/48000 [==============================] - 5s 103us/step - loss: 0.0426 - acc: 0.9876 - val_loss: 0.0806 - val_acc: 0.9753\n",
            "Epoch 79/100\n",
            "48000/48000 [==============================] - 5s 104us/step - loss: 0.0425 - acc: 0.9874 - val_loss: 0.0829 - val_acc: 0.9749\n",
            "Epoch 80/100\n",
            "48000/48000 [==============================] - 5s 104us/step - loss: 0.0400 - acc: 0.9882 - val_loss: 0.0803 - val_acc: 0.9758\n",
            "Epoch 81/100\n",
            "48000/48000 [==============================] - 5s 103us/step - loss: 0.0408 - acc: 0.9878 - val_loss: 0.0788 - val_acc: 0.9767\n",
            "Epoch 82/100\n",
            "48000/48000 [==============================] - 5s 103us/step - loss: 0.0389 - acc: 0.9886 - val_loss: 0.0889 - val_acc: 0.9738\n",
            "Epoch 83/100\n",
            "48000/48000 [==============================] - 5s 103us/step - loss: 0.0388 - acc: 0.9887 - val_loss: 0.0804 - val_acc: 0.9761\n",
            "Epoch 84/100\n",
            "48000/48000 [==============================] - 5s 103us/step - loss: 0.0390 - acc: 0.9887 - val_loss: 0.0776 - val_acc: 0.9766\n",
            "Epoch 85/100\n",
            "48000/48000 [==============================] - 5s 104us/step - loss: 0.0379 - acc: 0.9887 - val_loss: 0.0818 - val_acc: 0.9762\n",
            "Epoch 86/100\n",
            "48000/48000 [==============================] - 5s 103us/step - loss: 0.0374 - acc: 0.9888 - val_loss: 0.0800 - val_acc: 0.9774\n",
            "Epoch 87/100\n",
            "48000/48000 [==============================] - 5s 104us/step - loss: 0.0376 - acc: 0.9892 - val_loss: 0.0819 - val_acc: 0.9757\n",
            "Epoch 88/100\n",
            "48000/48000 [==============================] - 5s 103us/step - loss: 0.0373 - acc: 0.9887 - val_loss: 0.0832 - val_acc: 0.9753\n",
            "Epoch 89/100\n",
            "48000/48000 [==============================] - 5s 103us/step - loss: 0.0358 - acc: 0.9891 - val_loss: 0.0780 - val_acc: 0.9759\n",
            "Epoch 90/100\n",
            "48000/48000 [==============================] - 5s 104us/step - loss: 0.0366 - acc: 0.9890 - val_loss: 0.0776 - val_acc: 0.9778\n",
            "Epoch 91/100\n",
            "48000/48000 [==============================] - 5s 103us/step - loss: 0.0355 - acc: 0.9895 - val_loss: 0.0792 - val_acc: 0.9757\n",
            "Epoch 92/100\n",
            "48000/48000 [==============================] - 5s 104us/step - loss: 0.0343 - acc: 0.9902 - val_loss: 0.0850 - val_acc: 0.9752\n",
            "Epoch 93/100\n",
            "48000/48000 [==============================] - 5s 104us/step - loss: 0.0340 - acc: 0.9900 - val_loss: 0.0775 - val_acc: 0.9774\n",
            "Epoch 94/100\n",
            "48000/48000 [==============================] - 5s 103us/step - loss: 0.0930 - acc: 0.9825 - val_loss: 1.6218 - val_acc: 0.7403\n",
            "Epoch 95/100\n",
            "48000/48000 [==============================] - 5s 104us/step - loss: 0.1618 - acc: 0.9652 - val_loss: 0.0841 - val_acc: 0.9751\n",
            "Epoch 96/100\n",
            "48000/48000 [==============================] - 5s 103us/step - loss: 0.0407 - acc: 0.9878 - val_loss: 0.0816 - val_acc: 0.9753\n",
            "Epoch 97/100\n",
            "48000/48000 [==============================] - 5s 103us/step - loss: 0.0360 - acc: 0.9892 - val_loss: 0.0809 - val_acc: 0.9762\n",
            "Epoch 98/100\n",
            "48000/48000 [==============================] - 5s 104us/step - loss: 0.0341 - acc: 0.9901 - val_loss: 0.0809 - val_acc: 0.9757\n",
            "Epoch 99/100\n",
            "48000/48000 [==============================] - 5s 103us/step - loss: 0.0325 - acc: 0.9907 - val_loss: 0.0781 - val_acc: 0.9762\n",
            "Epoch 100/100\n",
            "48000/48000 [==============================] - 5s 104us/step - loss: 0.0322 - acc: 0.9907 - val_loss: 0.0811 - val_acc: 0.9763\n"
          ],
          "name": "stdout"
        }
      ]
    },
    {
      "cell_type": "markdown",
      "metadata": {
        "id": "ClX-yYJBaXo4",
        "colab_type": "text"
      },
      "source": [
        "# 7.결과 출력"
      ]
    },
    {
      "cell_type": "code",
      "metadata": {
        "id": "CzxycS1laEdO",
        "colab_type": "code",
        "outputId": "06a47106-1ad8-4839-e3d3-36cdea28e280",
        "colab": {
          "base_uri": "https://localhost:8080/",
          "height": 286
        }
      },
      "source": [
        "# Loss 출력\n",
        "\n",
        "print(history.history.keys())\n",
        "plt.plot(history.history['loss'])\n",
        "plt.plot(history.history['val_loss'])\n",
        "plt.legend(('train_loss', 'val_loss'))\n",
        "plt.show()"
      ],
      "execution_count": 0,
      "outputs": [
        {
          "output_type": "stream",
          "text": [
            "dict_keys(['val_loss', 'val_acc', 'loss', 'acc'])\n"
          ],
          "name": "stdout"
        },
        {
          "output_type": "display_data",
          "data": {
            "image/png": "[encoded data removed]",
            "text/plain": [
              "<Figure size 432x288 with 1 Axes>"
            ]
          },
          "metadata": {
            "tags": []
          }
        }
      ]
    },
    {
      "cell_type": "markdown",
      "metadata": {
        "id": "b4Y3wESn3dnk",
        "colab_type": "text"
      },
      "source": [
        "#7.결과 출력"
      ]
    },
    {
      "cell_type": "code",
      "metadata": {
        "id": "2UGFaLiZf1yk",
        "colab_type": "code",
        "outputId": "8a201ee4-2097-4576-80eb-47db05fc6b72",
        "colab": {
          "base_uri": "https://localhost:8080/",
          "height": 51
        }
      },
      "source": [
        "result = model.evaluate(x_test, y_test)\n",
        "print(result)"
      ],
      "execution_count": 0,
      "outputs": [
        {
          "output_type": "stream",
          "text": [
            "10000/10000 [==============================] - 1s 61us/step\n",
            "[0.22774560170173644, 0.9333]\n"
          ],
          "name": "stdout"
        }
      ]
    },
    {
      "cell_type": "code",
      "metadata": {
        "id": "NezH-81H3x-8",
        "colab_type": "code",
        "outputId": "62e94be3-4a2b-434b-8228-a44d8bd656b0",
        "colab": {
          "base_uri": "https://localhost:8080/",
          "height": 286
        }
      },
      "source": [
        "plt.imshow(x_test[0])"
      ],
      "execution_count": 0,
      "outputs": [
        {
          "output_type": "execute_result",
          "data": {
            "text/plain": [
              "<matplotlib.image.AxesImage at 0x7f2770115320>"
            ]
          },
          "metadata": {
            "tags": []
          },
          "execution_count": 59
        },
        {
          "output_type": "display_data",
          "data": {
            "image/png": "[encoded data removed]",
            "text/plain": [
              "<Figure size 432x288 with 1 Axes>"
            ]
          },
          "metadata": {
            "tags": []
          }
        }
      ]
    },
    {
      "cell_type": "code",
      "metadata": {
        "id": "3D-SMd50IJ3q",
        "colab_type": "code",
        "colab": {}
      },
      "source": [
        "y_hat = model.predict(x_test[0:1])"
      ],
      "execution_count": 0,
      "outputs": []
    },
    {
      "cell_type": "code",
      "metadata": {
        "id": "FKQ_a2ZdISgn",
        "colab_type": "code",
        "outputId": "4729c258-6c92-47c2-910b-cfee39399bba",
        "colab": {
          "base_uri": "https://localhost:8080/",
          "height": 51
        }
      },
      "source": [
        "print(y_hat)"
      ],
      "execution_count": 0,
      "outputs": [
        {
          "output_type": "stream",
          "text": [
            "[[4.1282288e-05 2.0600034e-07 1.6996519e-04 3.7784837e-03 1.8664602e-08\n",
            "  1.8958865e-05 5.2022288e-12 9.9593383e-01 2.2947295e-05 3.4264849e-05]]\n"
          ],
          "name": "stdout"
        }
      ]
    },
    {
      "cell_type": "code",
      "metadata": {
        "id": "I4vCORj_Ic6v",
        "colab_type": "code",
        "outputId": "0dff4cc9-5f5f-4a16-ba2e-a375f71074b3",
        "colab": {
          "base_uri": "https://localhost:8080/",
          "height": 34
        }
      },
      "source": [
        "print(y_test[0])"
      ],
      "execution_count": 0,
      "outputs": [
        {
          "output_type": "stream",
          "text": [
            "[0. 0. 0. 0. 0. 0. 0. 1. 0. 0.]\n"
          ],
          "name": "stdout"
        }
      ]
    },
    {
      "cell_type": "code",
      "metadata": {
        "id": "Rj9VLOUoIqTN",
        "colab_type": "code",
        "outputId": "500c7b1c-c6fb-483a-af98-5991e1619e8e",
        "colab": {
          "base_uri": "https://localhost:8080/",
          "height": 34
        }
      },
      "source": [
        "np.argmax(y_hat)"
      ],
      "execution_count": 0,
      "outputs": [
        {
          "output_type": "execute_result",
          "data": {
            "text/plain": [
              "7"
            ]
          },
          "metadata": {
            "tags": []
          },
          "execution_count": 66
        }
      ]
    },
    {
      "cell_type": "code",
      "metadata": {
        "id": "aAuN8XCPJJZt",
        "colab_type": "code",
        "outputId": "de639387-3684-42a1-8cbf-c79ee94ac4d5",
        "colab": {
          "base_uri": "https://localhost:8080/",
          "height": 34
        }
      },
      "source": [
        "np.max(y_hat)"
      ],
      "execution_count": 0,
      "outputs": [
        {
          "output_type": "execute_result",
          "data": {
            "text/plain": [
              "0.99593383"
            ]
          },
          "metadata": {
            "tags": []
          },
          "execution_count": 67
        }
      ]
    },
    {
      "cell_type": "code",
      "metadata": {
        "id": "RharUA84JN5v",
        "colab_type": "code",
        "colab": {}
      },
      "source": [
        ""
      ],
      "execution_count": 0,
      "outputs": []
    }
  ]
}