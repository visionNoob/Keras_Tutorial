{
  "nbformat": 4,
  "nbformat_minor": 0,
  "metadata": {
    "accelerator": "GPU",
    "colab": {
      "name": "Keras_1_MLP_Regression_visualization.ipynb",
      "provenance": [],
      "collapsed_sections": [],
      "include_colab_link": true
    },
    "kernelspec": {
      "name": "python3",
      "display_name": "Python 3"
    },
    "language_info": {
      "codemirror_mode": {
        "name": "ipython",
        "version": 3
      },
      "file_extension": ".py",
      "mimetype": "text/x-python",
      "name": "python",
      "nbconvert_exporter": "python",
      "pygments_lexer": "ipython3",
      "version": "3.7.3"
    }
  },
  "cells": [
    {
      "cell_type": "markdown",
      "metadata": {
        "id": "view-in-github",
        "colab_type": "text"
      },
      "source": [
        "<a href=\"https://colab.research.google.com/github/visionNoob/Keras_Tutorial/blob/master/Keras_1_MLP_Regression_visualization.ipynb\" target=\"_parent\"><img src=\"https://colab.research.google.com/assets/colab-badge.svg\" alt=\"Open In Colab\"/></a>"
      ]
    },
    {
      "cell_type": "markdown",
      "metadata": {
        "colab_type": "text",
        "id": "z8juHB30ID_y"
      },
      "source": [
        "# Linear Regression (선형 회귀) 시각화 데모"
      ]
    },
    {
      "cell_type": "markdown",
      "metadata": {
        "id": "2rC4cBMclMBL",
        "colab_type": "text"
      },
      "source": [
        "# 1. 라이브러리 불러오기"
      ]
    },
    {
      "cell_type": "code",
      "metadata": {
        "colab_type": "code",
        "outputId": "88bf1f01-fafa-43a3-8d63-f6b8361c1149",
        "id": "gGoUgyQde1B0",
        "colab": {
          "base_uri": "https://localhost:8080/",
          "height": 51
        }
      },
      "source": [
        "# 1.라이브러리 불러오기\n",
        "import tensorflow as tf # 딥러닝 라이브러리\n",
        "import keras # 딥러닝 라이브러리\n",
        "import numpy as np # 수학 계산 라이브러리\n",
        "import matplotlib.pyplot as plt # 그래프 그리는 라이브러리 \n",
        "\n",
        "#항상 버전 확인은 필수\n",
        "print(tf.__version__)\n",
        "print(keras.__version__)"
      ],
      "execution_count": 3,
      "outputs": [
        {
          "output_type": "stream",
          "text": [
            "1.15.0-rc3\n",
            "2.2.5\n"
          ],
          "name": "stdout"
        }
      ]
    },
    {
      "cell_type": "markdown",
      "metadata": {
        "id": "_1iSQmcglOT_",
        "colab_type": "text"
      },
      "source": [
        "# 2. 랜덤 시드 설정하기 (중요!)\n",
        "https://keras.io/getting-started/faq/#how-can-i-obtain-reproducible-results-using-keras-during-development"
      ]
    },
    {
      "cell_type": "code",
      "metadata": {
        "id": "wkdun6usk2B9",
        "colab_type": "code",
        "colab": {}
      },
      "source": [
        "# 2.랜덤 시드 고정하기\n",
        "import random\n",
        "seed_value = 42 # 랜덤 시드 ; 삶, 우주, 그리고 모든 것에 대한 궁극적인 질문에 대한 해답.\n",
        "# \n",
        "random.seed(seed_value)\n",
        "np.random.seed(seed_value)\n",
        "tf.set_random_seed(seed_value)"
      ],
      "execution_count": 0,
      "outputs": []
    },
    {
      "cell_type": "markdown",
      "metadata": {
        "colab_type": "text",
        "id": "6UTdIW-gJWwr"
      },
      "source": [
        "# 3. 데이터셋"
      ]
    },
    {
      "cell_type": "code",
      "metadata": {
        "colab_type": "code",
        "id": "R6EeL-OAJpKd",
        "outputId": "1d429639-1d4f-4092-aee2-bcdcc805c2ec",
        "colab": {
          "base_uri": "https://localhost:8080/",
          "height": 153
        }
      },
      "source": [
        "#from keras.datasets import mnist\n",
        "\n",
        "# 3. 데이터셋\n",
        "# Train/Test Data\n",
        "(x_train, y_train), (x_test, y_test) = keras.datasets.mnist.load_data()\n",
        "# train.validation split \n",
        "\n",
        "print(\"train 몇 개?_\", len(x_train))\n",
        "print(x_train.shape)\n",
        "print(y_train.shape)\n",
        "print(\"test 몇 개?_\", len(x_test))\n",
        "print(x_test.shape)\n",
        "print(y_test.shape)\n",
        "\n",
        "print(y_test[0])\n",
        "y_train = keras.utils.np_utils.to_categorical(y_train) \n",
        "y_test = keras.utils.np_utils.to_categorical(y_test) \n",
        "print(y_test[0])"
      ],
      "execution_count": 18,
      "outputs": [
        {
          "output_type": "stream",
          "text": [
            "train 몇 개?_ 60000\n",
            "(60000, 28, 28)\n",
            "(60000,)\n",
            "test 몇 개?_ 10000\n",
            "(10000, 28, 28)\n",
            "(10000,)\n",
            "7\n",
            "[0. 0. 0. 0. 0. 0. 0. 1. 0. 0.]\n"
          ],
          "name": "stdout"
        }
      ]
    },
    {
      "cell_type": "markdown",
      "metadata": {
        "id": "TnrmcvxGTHh-",
        "colab_type": "text"
      },
      "source": [
        "# 3.1 데이터 전처리"
      ]
    },
    {
      "cell_type": "code",
      "metadata": {
        "id": "s92vGa-9TG-A",
        "colab_type": "code",
        "colab": {}
      },
      "source": [
        "x_train = (x_train) / 256\n",
        "x_test = (x_test ) / 256"
      ],
      "execution_count": 0,
      "outputs": []
    },
    {
      "cell_type": "markdown",
      "metadata": {
        "colab_type": "text",
        "id": "olIAgNvrJ1WO"
      },
      "source": [
        "# 4. 모델 만들기"
      ]
    },
    {
      "cell_type": "code",
      "metadata": {
        "id": "I8NB83amUKtW",
        "colab_type": "code",
        "colab": {}
      },
      "source": [
        "# 4.모델 만들기\n",
        "model = keras.models.Sequential()\n",
        "model.add(keras.layers.Flatten(input_shape=(28,28)))\n",
        "model.add(keras.layers.Dense(units=10, activation='softmax', use_bias=False))"
      ],
      "execution_count": 0,
      "outputs": []
    },
    {
      "cell_type": "markdown",
      "metadata": {
        "id": "hV7QUTceh04D",
        "colab_type": "text"
      },
      "source": [
        "# 5. 모델 학습과정 설정하기"
      ]
    },
    {
      "cell_type": "code",
      "metadata": {
        "id": "FZyrzmBGh0M3",
        "colab_type": "code",
        "colab": {}
      },
      "source": [
        "# 5.모델 학습과정 설정하기\n",
        "sgd = keras.optimizers.SGD(lr=0.01, momentum=0.99, nesterov=True)\n",
        "model.compile(loss='categorical_crossentropy', optimizer=sgd, metrics=['accuracy'])"
      ],
      "execution_count": 0,
      "outputs": []
    },
    {
      "cell_type": "markdown",
      "metadata": {
        "id": "5F-H6VxQiCDN",
        "colab_type": "text"
      },
      "source": [
        "# 6. 모델 학습시키기"
      ]
    },
    {
      "cell_type": "code",
      "metadata": {
        "id": "zt8byFA7UczS",
        "colab_type": "code",
        "outputId": "81b807e1-a46f-41ed-c1db-56154f3eff58",
        "colab": {
          "base_uri": "https://localhost:8080/",
          "height": 714
        }
      },
      "source": [
        "# 6.모델 학습시키기\n",
        "history = model.fit(x_train, y_train, epochs=20, batch_size=1024, shuffle=True, validation_split=0.2)"
      ],
      "execution_count": 22,
      "outputs": [
        {
          "output_type": "stream",
          "text": [
            "Train on 48000 samples, validate on 12000 samples\n",
            "Epoch 1/20\n",
            "48000/48000 [==============================] - 1s 11us/step - loss: 1.1812 - acc: 0.6523 - val_loss: 0.4775 - val_acc: 0.8566\n",
            "Epoch 2/20\n",
            "48000/48000 [==============================] - 0s 8us/step - loss: 0.4919 - acc: 0.8577 - val_loss: 0.4362 - val_acc: 0.8812\n",
            "Epoch 3/20\n",
            "48000/48000 [==============================] - 0s 8us/step - loss: 0.4791 - acc: 0.8775 - val_loss: 0.4385 - val_acc: 0.8929\n",
            "Epoch 4/20\n",
            "48000/48000 [==============================] - 0s 7us/step - loss: 0.4646 - acc: 0.8876 - val_loss: 0.4245 - val_acc: 0.9000\n",
            "Epoch 5/20\n",
            "48000/48000 [==============================] - 0s 7us/step - loss: 0.4415 - acc: 0.8950 - val_loss: 0.4059 - val_acc: 0.9035\n",
            "Epoch 6/20\n",
            "48000/48000 [==============================] - 0s 8us/step - loss: 0.4166 - acc: 0.9007 - val_loss: 0.3894 - val_acc: 0.9052\n",
            "Epoch 7/20\n",
            "48000/48000 [==============================] - 0s 8us/step - loss: 0.3928 - acc: 0.9039 - val_loss: 0.3722 - val_acc: 0.9073\n",
            "Epoch 8/20\n",
            "48000/48000 [==============================] - 0s 8us/step - loss: 0.3722 - acc: 0.9074 - val_loss: 0.3551 - val_acc: 0.9107\n",
            "Epoch 9/20\n",
            "48000/48000 [==============================] - 0s 8us/step - loss: 0.3542 - acc: 0.9104 - val_loss: 0.3386 - val_acc: 0.9135\n",
            "Epoch 10/20\n",
            "48000/48000 [==============================] - 0s 8us/step - loss: 0.3386 - acc: 0.9131 - val_loss: 0.3261 - val_acc: 0.9149\n",
            "Epoch 11/20\n",
            "48000/48000 [==============================] - 0s 8us/step - loss: 0.3268 - acc: 0.9149 - val_loss: 0.3155 - val_acc: 0.9173\n",
            "Epoch 12/20\n",
            "48000/48000 [==============================] - 0s 8us/step - loss: 0.3175 - acc: 0.9167 - val_loss: 0.3085 - val_acc: 0.9200\n",
            "Epoch 13/20\n",
            "48000/48000 [==============================] - 0s 8us/step - loss: 0.3099 - acc: 0.9177 - val_loss: 0.3024 - val_acc: 0.9195\n",
            "Epoch 14/20\n",
            "48000/48000 [==============================] - 0s 7us/step - loss: 0.3038 - acc: 0.9180 - val_loss: 0.2981 - val_acc: 0.9204\n",
            "Epoch 15/20\n",
            "48000/48000 [==============================] - 0s 8us/step - loss: 0.2990 - acc: 0.9197 - val_loss: 0.2939 - val_acc: 0.9214\n",
            "Epoch 16/20\n",
            "48000/48000 [==============================] - 0s 7us/step - loss: 0.2941 - acc: 0.9206 - val_loss: 0.2909 - val_acc: 0.9209\n",
            "Epoch 17/20\n",
            "48000/48000 [==============================] - 0s 8us/step - loss: 0.2908 - acc: 0.9209 - val_loss: 0.2886 - val_acc: 0.9222\n",
            "Epoch 18/20\n",
            "48000/48000 [==============================] - 0s 8us/step - loss: 0.2881 - acc: 0.9213 - val_loss: 0.2858 - val_acc: 0.9216\n",
            "Epoch 19/20\n",
            "48000/48000 [==============================] - 0s 8us/step - loss: 0.2850 - acc: 0.9223 - val_loss: 0.2846 - val_acc: 0.9221\n",
            "Epoch 20/20\n",
            "48000/48000 [==============================] - 0s 8us/step - loss: 0.2831 - acc: 0.9227 - val_loss: 0.2832 - val_acc: 0.9223\n"
          ],
          "name": "stdout"
        }
      ]
    },
    {
      "cell_type": "code",
      "metadata": {
        "id": "XXpliwHhadMX",
        "colab_type": "code",
        "outputId": "a37f63c0-8a64-4e1f-f044-0bc1b9f202a7",
        "colab": {
          "base_uri": "https://localhost:8080/",
          "height": 286
        }
      },
      "source": [
        "plt.imshow(x_train[1], 'gray')"
      ],
      "execution_count": 23,
      "outputs": [
        {
          "output_type": "execute_result",
          "data": {
            "text/plain": [
              "<matplotlib.image.AxesImage at 0x7f03e0279ef0>"
            ]
          },
          "metadata": {
            "tags": []
          },
          "execution_count": 23
        },
        {
          "output_type": "display_data",
          "data": {
            "image/png": "[encoded data removed]",
            "text/plain": [
              "<Figure size 432x288 with 1 Axes>"
            ]
          },
          "metadata": {
            "tags": []
          }
        }
      ]
    },
    {
      "cell_type": "code",
      "metadata": {
        "id": "D8BpfpCfXZAd",
        "colab_type": "code",
        "outputId": "b5a2be5e-2da2-40ad-a347-2f6ccfa9929f",
        "colab": {
          "base_uri": "https://localhost:8080/",
          "height": 286
        }
      },
      "source": [
        "import matplotlib.pyplot as plt\n",
        "weight = np.array(model.get_weights())\n",
        "reshaped_weight = weight[0][:,0].reshape(28,28)\n",
        "reshaped_weight = reshaped_weight \n",
        "output = (reshaped_weight - reshaped_weight.min()) / (reshaped_weight.max() - reshaped_weight.min())\n",
        "plt.imshow(output, 'gray',)"
      ],
      "execution_count": 24,
      "outputs": [
        {
          "output_type": "execute_result",
          "data": {
            "text/plain": [
              "<matplotlib.image.AxesImage at 0x7f03e01da2e8>"
            ]
          },
          "metadata": {
            "tags": []
          },
          "execution_count": 24
        },
        {
          "output_type": "display_data",
          "data": {
            "image/png": "[encoded data removed]",
            "text/plain": [
              "<Figure size 432x288 with 1 Axes>"
            ]
          },
          "metadata": {
            "tags": []
          }
        }
      ]
    },
    {
      "cell_type": "code",
      "metadata": {
        "id": "KqYRzK7IrBVT",
        "colab_type": "code",
        "outputId": "7e94939c-2d1e-4f1c-b5e8-57b676a49a4c",
        "colab": {
          "base_uri": "https://localhost:8080/",
          "height": 1000
        }
      },
      "source": [
        "output"
      ],
      "execution_count": 0,
      "outputs": [
        {
          "output_type": "execute_result",
          "data": {
            "text/plain": [
              "array([[0.75041026, 0.6085841 , 0.62489647, 0.6840772 , 0.6269676 ,\n",
              "        0.7251228 , 0.60278404, 0.59563404, 0.7322807 , 0.5966017 ,\n",
              "        0.6392763 , 0.61098385, 0.7165326 , 0.7049026 , 0.6642822 ,\n",
              "        0.61714095, 0.63328075, 0.68050224, 0.6325129 , 0.55961627,\n",
              "        0.5714395 , 0.6493874 , 0.5459137 , 0.60794866, 0.5851332 ,\n",
              "        0.6853326 , 0.74822867, 0.6092497 ],\n",
              "       [0.63179547, 0.65607667, 0.57344687, 0.7153598 , 0.6413035 ,\n",
              "        0.57968223, 0.74049693, 0.633793  , 0.5675905 , 0.6965301 ,\n",
              "        0.6290151 , 0.63811207, 0.7391188 , 0.65558565, 0.61467123,\n",
              "        0.5480523 , 0.7139276 , 0.6395661 , 0.6599896 , 0.5676834 ,\n",
              "        0.6719818 , 0.6993814 , 0.5856249 , 0.7514713 , 0.63674223,\n",
              "        0.55265164, 0.5542993 , 0.6016119 ],\n",
              "       [0.5632805 , 0.701418  , 0.560626  , 0.56915635, 0.6967483 ,\n",
              "        0.69250864, 0.5323092 , 0.68394434, 0.7290071 , 0.6016203 ,\n",
              "        0.70376855, 0.59028286, 0.59135514, 0.49912643, 0.58260566,\n",
              "        0.54277086, 0.48590744, 0.6064609 , 0.66326845, 0.56071526,\n",
              "        0.6915032 , 0.5748092 , 0.6690567 , 0.631646  , 0.7004448 ,\n",
              "        0.64598465, 0.74184597, 0.5874299 ],\n",
              "       [0.68374085, 0.67018723, 0.623592  , 0.7130026 , 0.5694852 ,\n",
              "        0.6423613 , 0.5770286 , 0.49349084, 0.5576633 , 0.58870333,\n",
              "        0.6343724 , 0.65819985, 0.6259577 , 0.6880876 , 0.63276327,\n",
              "        0.70853794, 0.6922357 , 0.7048217 , 0.49332747, 0.52126694,\n",
              "        0.44886845, 0.483978  , 0.47623995, 0.5247578 , 0.6334934 ,\n",
              "        0.6183721 , 0.66386396, 0.6872931 ],\n",
              "       [0.7459652 , 0.637855  , 0.5539145 , 0.7407968 , 0.6621935 ,\n",
              "        0.639401  , 0.63047296, 0.5977315 , 0.70570314, 0.68641186,\n",
              "        0.6034576 , 0.8317398 , 0.5870154 , 0.7435917 , 0.48332065,\n",
              "        0.71159726, 0.5705121 , 0.6873235 , 0.60778224, 0.5343014 ,\n",
              "        0.5495696 , 0.55250055, 0.6173831 , 0.60918516, 0.49756342,\n",
              "        0.6010752 , 0.54932463, 0.6328948 ],\n",
              "       [0.6599989 , 0.5994676 , 0.7346246 , 0.66868424, 0.53473604,\n",
              "        0.4715516 , 0.5525974 , 0.66658294, 0.6733127 , 0.59906197,\n",
              "        0.6688852 , 0.8032058 , 0.62384063, 0.7285651 , 0.7722237 ,\n",
              "        0.6113657 , 0.7052172 , 0.66254884, 0.81847817, 0.6884694 ,\n",
              "        0.5084751 , 0.5924543 , 0.5243118 , 0.57629424, 0.46689042,\n",
              "        0.52733314, 0.6679937 , 0.6680864 ],\n",
              "       [0.5505335 , 0.67041826, 0.6741349 , 0.55640143, 0.56370485,\n",
              "        0.68521696, 0.67574495, 0.63118196, 0.63313013, 0.400753  ,\n",
              "        0.7655735 , 0.61470443, 0.5030269 , 0.78946805, 0.68475616,\n",
              "        0.54386735, 0.7124164 , 0.6814507 , 0.61769176, 0.77951765,\n",
              "        0.5950827 , 0.84678626, 0.9062764 , 0.6927991 , 0.2777065 ,\n",
              "        0.5398461 , 0.49133527, 0.60916704],\n",
              "       [0.7323759 , 0.7211645 , 0.7368887 , 0.5778072 , 0.54506415,\n",
              "        0.606481  , 0.7695135 , 0.6846284 , 0.4987627 , 0.6810991 ,\n",
              "        0.65017915, 0.6035118 , 0.6593568 , 0.77069217, 0.65836424,\n",
              "        0.58874226, 0.5973702 , 0.8032002 , 0.69756037, 0.7465913 ,\n",
              "        0.58836085, 0.5883955 , 0.5977987 , 0.71493036, 0.54281396,\n",
              "        0.40535   , 0.5216941 , 0.7097649 ],\n",
              "       [0.58926946, 0.59646225, 0.74303687, 0.6483119 , 0.61872107,\n",
              "        0.6337024 , 0.6052882 , 0.6697936 , 0.5307537 , 0.66843516,\n",
              "        0.6015244 , 0.49262464, 0.6280664 , 0.7068616 , 0.7638921 ,\n",
              "        0.7256314 , 0.9582353 , 0.62401783, 0.709759  , 0.6249898 ,\n",
              "        0.61666894, 0.67069477, 0.69460887, 0.8547186 , 0.6968712 ,\n",
              "        0.29933798, 0.54305494, 0.6248399 ],\n",
              "       [0.5826619 , 0.7292493 , 0.7242977 , 0.6470784 , 0.46188042,\n",
              "        0.5572129 , 0.61610585, 0.44292557, 0.50305206, 0.652256  ,\n",
              "        0.66192186, 0.48655078, 0.6137703 , 0.83229697, 0.5846993 ,\n",
              "        0.37646613, 0.7610369 , 0.6999161 , 0.8250569 , 0.86239755,\n",
              "        0.8052854 , 0.49607617, 0.5405852 , 0.8234135 , 0.7424631 ,\n",
              "        0.32585174, 0.63484037, 0.57866603],\n",
              "       [0.67649794, 0.7379369 , 0.7104661 , 0.58573586, 0.61645013,\n",
              "        0.5557326 , 0.5547037 , 0.605473  , 0.5079165 , 0.6029928 ,\n",
              "        0.5548929 , 0.69548863, 0.67359066, 0.6851115 , 0.7220266 ,\n",
              "        0.6328582 , 0.69040805, 0.8259246 , 0.795809  , 0.51998764,\n",
              "        0.47990388, 0.66402227, 0.7192701 , 0.87912977, 0.72204643,\n",
              "        0.33209077, 0.49918154, 0.59966016],\n",
              "       [0.6224485 , 0.69019496, 0.6938619 , 0.7135462 , 0.47867495,\n",
              "        0.5296124 , 0.63535273, 0.62684536, 0.63921976, 0.5285034 ,\n",
              "        0.57418996, 0.58592844, 0.41300416, 0.6296104 , 0.4248456 ,\n",
              "        0.19179308, 0.40445533, 0.6243503 , 0.45050067, 0.599025  ,\n",
              "        0.7090173 , 0.98579365, 0.7267971 , 0.7067447 , 0.7203747 ,\n",
              "        0.35812414, 0.6126284 , 0.58749783],\n",
              "       [0.6140709 , 0.5682002 , 0.6275309 , 0.597281  , 0.5450567 ,\n",
              "        0.7148531 , 0.67964685, 0.66744924, 0.82355577, 0.4651705 ,\n",
              "        0.65842545, 0.6073796 , 0.7221295 , 0.73639524, 0.30837482,\n",
              "        0.13515987, 0.35655206, 0.7900288 , 0.57386947, 0.60555446,\n",
              "        0.724507  , 0.6751045 , 0.6567939 , 0.7456724 , 0.96525466,\n",
              "        0.66132635, 0.6417126 , 0.60515445],\n",
              "       [0.6474602 , 0.69224244, 0.6226385 , 0.5697781 , 0.6031751 ,\n",
              "        0.66205597, 0.75785136, 0.7719938 , 0.7438105 , 0.61393815,\n",
              "        0.70136374, 0.66969115, 0.66358984, 0.42826897, 0.30672398,\n",
              "        0.1650517 , 0.27678952, 0.66429365, 0.670833  , 0.50833136,\n",
              "        0.50510347, 0.44876876, 0.67019993, 0.88088834, 0.894594  ,\n",
              "        0.6743416 , 0.6282844 , 0.6397408 ],\n",
              "       [0.69982034, 0.70886266, 0.6934786 , 0.6148183 , 0.5286101 ,\n",
              "        0.92538416, 0.7574146 , 0.797817  , 0.7625962 , 0.79160345,\n",
              "        0.6501092 , 0.60535073, 0.7078814 , 0.70527387, 0.23753309,\n",
              "        0.26130146, 0.2418204 , 0.39792764, 0.60008675, 0.5295062 ,\n",
              "        0.63682246, 0.77341104, 0.5735023 , 0.9677592 , 0.8440946 ,\n",
              "        0.55946285, 0.5821436 , 0.712312  ],\n",
              "       [0.61026555, 0.6253889 , 0.6803896 , 0.6589315 , 0.596568  ,\n",
              "        0.9561778 , 0.4044522 , 0.9256177 , 0.8347628 , 0.6530382 ,\n",
              "        0.7883838 , 0.52283424, 0.71097755, 0.36666664, 0.        ,\n",
              "        0.26282674, 0.42305943, 0.32000726, 0.65365154, 0.57205933,\n",
              "        0.8218772 , 0.59208363, 0.62438315, 0.8759491 , 0.8037303 ,\n",
              "        0.64811885, 0.7165954 , 0.5926085 ],\n",
              "       [0.6812956 , 0.6465052 , 0.5519145 , 0.58944196, 0.65842223,\n",
              "        0.88903004, 0.6289755 , 0.6533091 , 0.84368426, 0.8022785 ,\n",
              "        0.7070713 , 0.6209054 , 0.5996065 , 0.18102992, 0.20002635,\n",
              "        0.5435312 , 0.40193808, 0.72556454, 0.719651  , 0.70703614,\n",
              "        0.9098493 , 0.62156945, 0.7095967 , 0.66026586, 0.6322722 ,\n",
              "        0.563638  , 0.556045  , 0.62632304],\n",
              "       [0.5893504 , 0.6376111 , 0.69147575, 0.6399684 , 0.52366644,\n",
              "        0.8977332 , 0.8855859 , 0.6320983 , 0.57599485, 0.85681564,\n",
              "        0.9844682 , 0.61726147, 0.5225371 , 0.18831086, 0.3287598 ,\n",
              "        0.4861286 , 0.6545468 , 0.77286017, 0.5621939 , 0.740652  ,\n",
              "        0.7170473 , 0.60007715, 0.72832173, 0.64397913, 0.66182595,\n",
              "        0.47511855, 0.66848314, 0.7025248 ],\n",
              "       [0.7349642 , 0.60284424, 0.6733024 , 0.55981743, 0.5648056 ,\n",
              "        0.66293997, 0.6856392 , 0.6264399 , 0.6986138 , 0.70338905,\n",
              "        0.8871503 , 0.66909546, 0.64648956, 0.37801212, 0.30327484,\n",
              "        0.55786204, 0.6337247 , 0.5780099 , 0.5865963 , 0.38920373,\n",
              "        0.52880985, 0.50918865, 0.81108713, 0.6631292 , 0.5905941 ,\n",
              "        0.6438637 , 0.54389375, 0.7018281 ],\n",
              "       [0.544508  , 0.6387794 , 0.6325416 , 0.581406  , 0.57345027,\n",
              "        0.6867833 , 0.74380314, 0.7101028 , 0.80432546, 0.6356952 ,\n",
              "        0.6731977 , 0.6151162 , 0.78509647, 0.53645205, 0.52994424,\n",
              "        0.35695696, 0.38915813, 0.64234835, 0.74894667, 0.5102336 ,\n",
              "        0.6996094 , 0.7469033 , 0.80991465, 0.6432877 , 0.5363246 ,\n",
              "        0.6878115 , 0.54485875, 0.6128916 ],\n",
              "       [0.54762065, 0.67189157, 0.5754951 , 0.6333679 , 0.6025032 ,\n",
              "        0.74472225, 0.6791184 , 0.6566372 , 0.66101754, 0.5837077 ,\n",
              "        0.8531177 , 0.86851925, 1.        , 0.8173209 , 0.42410436,\n",
              "        0.59737015, 0.62912834, 0.5724803 , 0.625452  , 0.49056813,\n",
              "        0.5324773 , 0.68431205, 0.6795518 , 0.43461716, 0.58852684,\n",
              "        0.65231466, 0.54667884, 0.58599687],\n",
              "       [0.61040616, 0.57362556, 0.7133847 , 0.5995717 , 0.6171493 ,\n",
              "        0.717327  , 0.74451303, 0.80315256, 0.54747814, 0.55800754,\n",
              "        0.73118967, 0.73970926, 0.83603007, 0.697347  , 0.48963937,\n",
              "        0.7178224 , 0.561463  , 0.38450938, 0.42475712, 0.46297348,\n",
              "        0.4601105 , 0.5976166 , 0.7007507 , 0.5433986 , 0.60148185,\n",
              "        0.6880088 , 0.6690524 , 0.7155919 ],\n",
              "       [0.74543995, 0.6064414 , 0.6451263 , 0.49506354, 0.3374749 ,\n",
              "        0.6107667 , 0.76136976, 0.45954704, 0.67061514, 0.6913021 ,\n",
              "        0.7400632 , 0.6896486 , 0.6271879 , 0.9794148 , 0.62290305,\n",
              "        0.6827697 , 0.68797135, 0.71501416, 0.5576221 , 0.5036074 ,\n",
              "        0.4774952 , 0.6571552 , 0.62185955, 0.64368284, 0.5320871 ,\n",
              "        0.5109394 , 0.74675703, 0.6854628 ],\n",
              "       [0.6653533 , 0.5505571 , 0.62774193, 0.53704625, 0.53718394,\n",
              "        0.5383633 , 0.7451495 , 0.6507243 , 0.7465752 , 0.88860995,\n",
              "        0.8840246 , 0.761877  , 0.6813862 , 0.7119684 , 0.76164675,\n",
              "        0.7377765 , 0.64477587, 0.5935859 , 0.49843383, 0.44969139,\n",
              "        0.35263517, 0.53372157, 0.50399804, 0.527816  , 0.6750515 ,\n",
              "        0.6958448 , 0.5473991 , 0.6370425 ],\n",
              "       [0.5424182 , 0.7373616 , 0.6284461 , 0.5400111 , 0.69373393,\n",
              "        0.5830127 , 0.564228  , 0.5580104 , 0.5194887 , 0.52089334,\n",
              "        0.5751192 , 0.6108429 , 0.8125129 , 0.8294978 , 0.69289243,\n",
              "        0.6363132 , 0.60883003, 0.5901995 , 0.39324102, 0.37751952,\n",
              "        0.39626446, 0.4696514 , 0.58703274, 0.61782575, 0.7069933 ,\n",
              "        0.6878235 , 0.61105376, 0.71737885],\n",
              "       [0.7450038 , 0.6996339 , 0.5482789 , 0.7160452 , 0.6430015 ,\n",
              "        0.62451696, 0.6495386 , 0.51450616, 0.535569  , 0.34624887,\n",
              "        0.19175269, 0.42236096, 0.43948555, 0.35610873, 0.3445052 ,\n",
              "        0.19180468, 0.32294554, 0.459584  , 0.5027357 , 0.44284457,\n",
              "        0.54616493, 0.5871983 , 0.6161258 , 0.65306693, 0.6398546 ,\n",
              "        0.7073627 , 0.7460671 , 0.58959943],\n",
              "       [0.6293623 , 0.72499216, 0.5462399 , 0.70822847, 0.7471819 ,\n",
              "        0.65215355, 0.7230823 , 0.6293927 , 0.5991229 , 0.52780724,\n",
              "        0.6335036 , 0.5278401 , 0.5632893 , 0.634935  , 0.6177806 ,\n",
              "        0.61701024, 0.5848646 , 0.6666152 , 0.60332054, 0.67113537,\n",
              "        0.64136267, 0.5809131 , 0.69451433, 0.6738226 , 0.6391004 ,\n",
              "        0.6645127 , 0.57270306, 0.54594004],\n",
              "       [0.6604819 , 0.723193  , 0.5627225 , 0.55208176, 0.5647132 ,\n",
              "        0.5748962 , 0.6912454 , 0.6608816 , 0.6820067 , 0.6581621 ,\n",
              "        0.54457116, 0.5440993 , 0.6835783 , 0.54356116, 0.66803986,\n",
              "        0.5483099 , 0.6853361 , 0.59946334, 0.58833885, 0.6159873 ,\n",
              "        0.5699079 , 0.5804536 , 0.5237489 , 0.59378237, 0.7175237 ,\n",
              "        0.62924564, 0.7190756 , 0.6932269 ]], dtype=float32)"
            ]
          },
          "metadata": {
            "tags": []
          },
          "execution_count": 30
        }
      ]
    },
    {
      "cell_type": "markdown",
      "metadata": {
        "id": "ClX-yYJBaXo4",
        "colab_type": "text"
      },
      "source": [
        "# 7.모델 평가"
      ]
    },
    {
      "cell_type": "code",
      "metadata": {
        "id": "CRsL1TZ0S40H",
        "colab_type": "code",
        "outputId": "a7694db5-c2c0-41d5-e6c5-e95a5b9325e7",
        "colab": {
          "base_uri": "https://localhost:8080/",
          "height": 51
        }
      },
      "source": [
        "evaluation_result = model.evaluate(x_test, y_test)\n",
        "print(evaluation_result)"
      ],
      "execution_count": 0,
      "outputs": [
        {
          "output_type": "stream",
          "text": [
            "10000/10000 [==============================] - 1s 61us/step\n",
            "[2.156717554552853, 0.8617]\n"
          ],
          "name": "stdout"
        }
      ]
    },
    {
      "cell_type": "code",
      "metadata": {
        "id": "CzxycS1laEdO",
        "colab_type": "code",
        "outputId": "dade0f51-7d57-43d8-d11a-330ea16492c6",
        "colab": {
          "base_uri": "https://localhost:8080/",
          "height": 286
        }
      },
      "source": [
        "# Loss 출력\n",
        "print(history.history.keys())\n",
        "plt.plot(history.history['loss'])\n",
        "plt.plot(history.history['val_loss'])\n",
        "plt.legend(('train_loss', 'val_loss'))\n",
        "plt.show()"
      ],
      "execution_count": 0,
      "outputs": [
        {
          "output_type": "stream",
          "text": [
            "dict_keys(['val_loss', 'val_mean_squared_error', 'loss', 'mean_squared_error'])\n"
          ],
          "name": "stdout"
        },
        {
          "output_type": "display_data",
          "data": {
            "image/png": "[encoded data removed]",
            "text/plain": [
              "<Figure size 432x288 with 1 Axes>"
            ]
          },
          "metadata": {
            "tags": []
          }
        }
      ]
    },
    {
      "cell_type": "code",
      "metadata": {
        "colab_type": "code",
        "id": "DcbA7CkYH5IW",
        "scrolled": false,
        "outputId": "e56eba6b-012d-4246-c58b-1ee8b4dd40f6",
        "colab": {
          "base_uri": "https://localhost:8080/",
          "height": 269
        }
      },
      "source": [
        "# 예측값 출력\n",
        "yhat = model.predict(input_data)\n",
        "\n",
        "plt.plot(input_data, output_data, 'o')\n",
        "plt.plot(input_data, yhat)\n",
        "plt.show()"
      ],
      "execution_count": 0,
      "outputs": [
        {
          "output_type": "display_data",
          "data": {
            "image/png": "[encoded data removed]",
            "text/plain": [
              "<Figure size 432x288 with 1 Axes>"
            ]
          },
          "metadata": {
            "tags": []
          }
        }
      ]
    },
    {
      "cell_type": "code",
      "metadata": {
        "id": "2UGFaLiZf1yk",
        "colab_type": "code",
        "colab": {}
      },
      "source": [
        ""
      ],
      "execution_count": 0,
      "outputs": []
    }
  ]
}