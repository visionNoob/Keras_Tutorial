{
  "nbformat": 4,
  "nbformat_minor": 0,
  "metadata": {
    "colab": {
      "name": "Simple_MNIST",
      "provenance": [],
      "collapsed_sections": [],
      "include_colab_link": true
    },
    "kernelspec": {
      "name": "python3",
      "display_name": "Python 3"
    },
    "accelerator": "GPU"
  },
  "cells": [
    {
      "cell_type": "markdown",
      "metadata": {
        "id": "view-in-github",
        "colab_type": "text"
      },
      "source": [
        "<a href=\"https://colab.research.google.com/github/visionNoob/Keras_Tutorial/blob/master/Simple_MNIST.ipynb\" target=\"_parent\"><img src=\"https://colab.research.google.com/assets/colab-badge.svg\" alt=\"Open In Colab\"/></a>"
      ]
    },
    {
      "cell_type": "code",
      "metadata": {
        "id": "IUrh58Iwwvz4",
        "colab_type": "code",
        "colab": {
          "base_uri": "https://localhost:8080/",
          "height": 51
        },
        "outputId": "6959f3c9-e0df-436a-dd9b-8cf8749b1d76"
      },
      "source": [
        "import keras"
      ],
      "execution_count": 9,
      "outputs": [
        {
          "output_type": "stream",
          "text": [
            "Downloading data from https://s3.amazonaws.com/img-datasets/mnist.npz\n",
            "11493376/11490434 [==============================] - 1s 0us/step\n"
          ],
          "name": "stdout"
        }
      ]
    },
    {
      "cell_type": "markdown",
      "metadata": {
        "id": "p2EgFZOz0x7G",
        "colab_type": "text"
      },
      "source": [
        "# 1. 데이터 세트 불러오기"
      ]
    },
    {
      "cell_type": "code",
      "metadata": {
        "id": "mVDy3NGs0wPg",
        "colab_type": "code",
        "colab": {}
      },
      "source": [
        "mnist = keras.datasets.mnist \n",
        "\n",
        "(x_train, y_train),(x_test, y_test) = mnist.load_data()\n",
        "x_train, x_test = x_train / 255.0, x_test / 255.0"
      ],
      "execution_count": 0,
      "outputs": []
    },
    {
      "cell_type": "markdown",
      "metadata": {
        "id": "hH4HNgiI009f",
        "colab_type": "text"
      },
      "source": [
        "# 2. 케라스 모델 만들기"
      ]
    },
    {
      "cell_type": "code",
      "metadata": {
        "id": "35QJbkRTynGZ",
        "colab_type": "code",
        "colab": {}
      },
      "source": [
        "model = keras.models.Sequential()\n",
        "model.add(keras.layers.Flatten(input_shape=(28,28)))\n",
        "model.add(keras.layers.Dense(128, activation='relu'))\n",
        "model.add(keras.layers.Dropout(0.5))\n",
        "model.add(keras.layers.Dense(10, activation='softmax'))"
      ],
      "execution_count": 0,
      "outputs": []
    },
    {
      "cell_type": "markdown",
      "metadata": {
        "id": "uFXGDDtS08O0",
        "colab_type": "text"
      },
      "source": [
        "# 3. 모델 컴파일 하기"
      ]
    },
    {
      "cell_type": "code",
      "metadata": {
        "id": "HsCeruaRyrbe",
        "colab_type": "code",
        "colab": {}
      },
      "source": [
        "model.compile(optimizer='adam', loss='sparse_categorical_crossentropy', metrics=['accuracy'])"
      ],
      "execution_count": 0,
      "outputs": []
    },
    {
      "cell_type": "markdown",
      "metadata": {
        "id": "ddlgTS_51BMD",
        "colab_type": "text"
      },
      "source": [
        "# 4. 모델 학습시키기"
      ]
    },
    {
      "cell_type": "code",
      "metadata": {
        "id": "Ixa2gQJazPB1",
        "colab_type": "code",
        "colab": {
          "base_uri": "https://localhost:8080/",
          "height": 224
        },
        "outputId": "8ceb96a4-11cb-44c5-d732-f91ccfbaeb5e"
      },
      "source": [
        "model.fit(x_train, y_train, epochs=5)"
      ],
      "execution_count": 33,
      "outputs": [
        {
          "output_type": "stream",
          "text": [
            "Epoch 1/5\n",
            "60000/60000 [==============================] - 8s 140us/step - loss: 0.1113 - acc: 0.9644\n",
            "Epoch 2/5\n",
            "60000/60000 [==============================] - 8s 127us/step - loss: 0.1103 - acc: 0.9648\n",
            "Epoch 3/5\n",
            "60000/60000 [==============================] - 8s 126us/step - loss: 0.1065 - acc: 0.9665\n",
            "Epoch 4/5\n",
            "60000/60000 [==============================] - 8s 128us/step - loss: 0.1039 - acc: 0.9671\n",
            "Epoch 5/5\n",
            "60000/60000 [==============================] - 8s 128us/step - loss: 0.1042 - acc: 0.9657\n"
          ],
          "name": "stdout"
        },
        {
          "output_type": "execute_result",
          "data": {
            "text/plain": [
              "<keras.callbacks.History at 0x7fa740640358>"
            ]
          },
          "metadata": {
            "tags": []
          },
          "execution_count": 33
        }
      ]
    },
    {
      "cell_type": "markdown",
      "metadata": {
        "id": "ZfvG_DYP1D8D",
        "colab_type": "text"
      },
      "source": [
        "# 5. 모델 평가하기"
      ]
    },
    {
      "cell_type": "code",
      "metadata": {
        "id": "eRmRREtyzWBB",
        "colab_type": "code",
        "colab": {
          "base_uri": "https://localhost:8080/",
          "height": 51
        },
        "outputId": "6ed34df8-51d9-43d6-d723-2bb2cd06ca42"
      },
      "source": [
        "model.evaluate(x_test, y_test)"
      ],
      "execution_count": 34,
      "outputs": [
        {
          "output_type": "stream",
          "text": [
            "10000/10000 [==============================] - 1s 69us/step\n"
          ],
          "name": "stdout"
        },
        {
          "output_type": "execute_result",
          "data": {
            "text/plain": [
              "[0.07951100283914711, 0.9768]"
            ]
          },
          "metadata": {
            "tags": []
          },
          "execution_count": 34
        }
      ]
    }
  ]
}