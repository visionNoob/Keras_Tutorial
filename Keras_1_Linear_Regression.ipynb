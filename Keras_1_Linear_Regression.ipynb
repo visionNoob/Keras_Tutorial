{
  "nbformat": 4,
  "nbformat_minor": 0,
  "metadata": {
    "accelerator": "GPU",
    "colab": {
      "name": "Keras_1_Linear Regression.ipynb",
      "provenance": [],
      "collapsed_sections": [],
      "include_colab_link": true
    },
    "kernelspec": {
      "name": "python3",
      "display_name": "Python 3"
    },
    "language_info": {
      "codemirror_mode": {
        "name": "ipython",
        "version": 3
      },
      "file_extension": ".py",
      "mimetype": "text/x-python",
      "name": "python",
      "nbconvert_exporter": "python",
      "pygments_lexer": "ipython3",
      "version": "3.7.3"
    }
  },
  "cells": [
    {
      "cell_type": "markdown",
      "metadata": {
        "id": "view-in-github",
        "colab_type": "text"
      },
      "source": [
        "<a href=\"https://colab.research.google.com/github/visionNoob/Keras_Tutorial/blob/master/Keras_1_Linear_Regression.ipynb\" target=\"_parent\"><img src=\"https://colab.research.google.com/assets/colab-badge.svg\" alt=\"Open In Colab\"/></a>"
      ]
    },
    {
      "cell_type": "markdown",
      "metadata": {
        "colab_type": "text",
        "id": "z8juHB30ID_y"
      },
      "source": [
        "# Linear Regression (선형 회귀) 예제"
      ]
    },
    {
      "cell_type": "markdown",
      "metadata": {
        "id": "2rC4cBMclMBL",
        "colab_type": "text"
      },
      "source": [
        "# 라이브러리 불러오기"
      ]
    },
    {
      "cell_type": "code",
      "metadata": {
        "colab_type": "code",
        "id": "fgFXOeQ3IGBv",
        "outputId": "f3ca7726-7194-4562-91e1-baa5d133e4f3",
        "colab": {
          "base_uri": "https://localhost:8080/",
          "height": 68
        }
      },
      "source": [
        "import tensorflow as tf\n",
        "import keras\n",
        "import numpy as np\n",
        "import matplotlib.pyplot as plt\n",
        "import matplotlib\n",
        "\n",
        "print(tf.__version__)\n",
        "print(keras.__version__)\n",
        "print(matplotlib.__version__)"
      ],
      "execution_count": 2,
      "outputs": [
        {
          "output_type": "stream",
          "text": [
            "1.14.0\n",
            "2.2.5\n",
            "3.0.3\n"
          ],
          "name": "stdout"
        }
      ]
    },
    {
      "cell_type": "markdown",
      "metadata": {
        "id": "_1iSQmcglOT_",
        "colab_type": "text"
      },
      "source": [
        "# 랜덤 시드 설정하기 (중요!)"
      ]
    },
    {
      "cell_type": "code",
      "metadata": {
        "id": "wkdun6usk2B9",
        "colab_type": "code",
        "colab": {}
      },
      "source": [
        "seed_value = 72\n",
        "\n",
        "# Seed value\n",
        "# Apparently you may use different seed values at each stage\n",
        "seed_value= 0\n",
        "\n",
        "# 1. Set `PYTHONHASHSEED` environment variable at a fixed value\n",
        "#import os\n",
        "#os.environ['PYTHONHASHSEED']=str(seed_value)\n",
        "\n",
        "# 2. Set `python` built-in pseudo-random generator at a fixed value\n",
        "#import random\n",
        "#random.seed(seed_value)\n",
        "\n",
        "# 3. Set `numpy` pseudo-random generator at a fixed value\n",
        "import numpy as np\n",
        "np.random.seed(seed_value)\n",
        "\n",
        "# 4. Set `tensorflow` pseudo-random generator at a fixed value\n",
        "import tensorflow as tf\n",
        "tf.set_random_seed(seed_value)"
      ],
      "execution_count": 0,
      "outputs": []
    },
    {
      "cell_type": "markdown",
      "metadata": {
        "colab_type": "text",
        "id": "6UTdIW-gJWwr"
      },
      "source": [
        "# 데이터셋"
      ]
    },
    {
      "cell_type": "code",
      "metadata": {
        "colab_type": "code",
        "id": "R6EeL-OAJpKd",
        "outputId": "d1cc1fec-3428-4f23-dd1b-a7ed808f957c",
        "colab": {
          "base_uri": "https://localhost:8080/",
          "height": 269
        }
      },
      "source": [
        "# 주어진 데이터 확인\n",
        "x_data = [1, 2, 3, 4, 5]\n",
        "y_data = [1, 2, 3, 4, 5]\n",
        "\n",
        "# 표로 출력\n",
        "plt.plot(x_data, y_data, 'o')\n",
        "plt.show()"
      ],
      "execution_count": 4,
      "outputs": [
        {
          "output_type": "display_data",
          "data": {
            "image/png": "[encoded data removed]",
            "text/plain": [
              "<Figure size 432x288 with 1 Axes>"
            ]
          },
          "metadata": {
            "tags": []
          }
        }
      ]
    },
    {
      "cell_type": "markdown",
      "metadata": {
        "colab_type": "text",
        "id": "olIAgNvrJ1WO"
      },
      "source": [
        "# 모델 만들기"
      ]
    },
    {
      "cell_type": "code",
      "metadata": {
        "colab_type": "code",
        "id": "31iigy8iLqcO",
        "outputId": "103ef260-a091-4163-b271-e9915d6cec7e",
        "colab": {
          "base_uri": "https://localhost:8080/",
          "height": 139
        }
      },
      "source": [
        "# 2. 모델 구성하기\n",
        "model = keras.models.Sequential()\n",
        "model.add(keras.layers.Dense(units=1, input_dim=1, activation=None, use_bias=True))"
      ],
      "execution_count": 5,
      "outputs": [
        {
          "output_type": "stream",
          "text": [
            "WARNING:tensorflow:From /usr/local/lib/python3.6/dist-packages/keras/backend/tensorflow_backend.py:66: The name tf.get_default_graph is deprecated. Please use tf.compat.v1.get_default_graph instead.\n",
            "\n",
            "WARNING:tensorflow:From /usr/local/lib/python3.6/dist-packages/keras/backend/tensorflow_backend.py:541: The name tf.placeholder is deprecated. Please use tf.compat.v1.placeholder instead.\n",
            "\n",
            "WARNING:tensorflow:From /usr/local/lib/python3.6/dist-packages/keras/backend/tensorflow_backend.py:4432: The name tf.random_uniform is deprecated. Please use tf.random.uniform instead.\n",
            "\n"
          ],
          "name": "stdout"
        }
      ]
    },
    {
      "cell_type": "code",
      "metadata": {
        "id": "vA2ihoH3kZiF",
        "colab_type": "code",
        "colab": {
          "base_uri": "https://localhost:8080/",
          "height": 122
        },
        "outputId": "f41da607-8fc0-4e16-e3dc-759f2f94a6b7"
      },
      "source": [
        "model.get_weights()"
      ],
      "execution_count": 6,
      "outputs": [
        {
          "output_type": "stream",
          "text": [
            "WARNING:tensorflow:From /usr/local/lib/python3.6/dist-packages/keras/backend/tensorflow_backend.py:190: The name tf.get_default_session is deprecated. Please use tf.compat.v1.get_default_session instead.\n",
            "\n",
            "WARNING:tensorflow:From /usr/local/lib/python3.6/dist-packages/keras/backend/tensorflow_backend.py:197: The name tf.ConfigProto is deprecated. Please use tf.compat.v1.ConfigProto instead.\n",
            "\n"
          ],
          "name": "stdout"
        },
        {
          "output_type": "execute_result",
          "data": {
            "text/plain": [
              "[array([[0.7365836]], dtype=float32), array([0.], dtype=float32)]"
            ]
          },
          "metadata": {
            "tags": []
          },
          "execution_count": 6
        }
      ]
    },
    {
      "cell_type": "markdown",
      "metadata": {
        "id": "eU_8imbHlEsU",
        "colab_type": "text"
      },
      "source": [
        "0.7365836"
      ]
    },
    {
      "cell_type": "markdown",
      "metadata": {
        "id": "hV7QUTceh04D",
        "colab_type": "text"
      },
      "source": [
        "# 3. 모델 학습과정 설정하기"
      ]
    },
    {
      "cell_type": "code",
      "metadata": {
        "id": "FZyrzmBGh0M3",
        "colab_type": "code",
        "colab": {
          "base_uri": "https://localhost:8080/",
          "height": 71
        },
        "outputId": "d5d8a768-ee46-41d2-81d3-bf4bc479bb4d"
      },
      "source": [
        "model.compile(loss='mse', optimizer='sgd', metrics=['accuracy'])"
      ],
      "execution_count": 7,
      "outputs": [
        {
          "output_type": "stream",
          "text": [
            "WARNING:tensorflow:From /usr/local/lib/python3.6/dist-packages/keras/optimizers.py:793: The name tf.train.Optimizer is deprecated. Please use tf.compat.v1.train.Optimizer instead.\n",
            "\n"
          ],
          "name": "stdout"
        }
      ]
    },
    {
      "cell_type": "markdown",
      "metadata": {
        "id": "5F-H6VxQiCDN",
        "colab_type": "text"
      },
      "source": [
        "# 4. 모델 학습시키기"
      ]
    },
    {
      "cell_type": "code",
      "metadata": {
        "colab_type": "code",
        "id": "DcbA7CkYH5IW",
        "scrolled": false,
        "outputId": "0b054c55-1310-431a-eab9-a2dead6a87de",
        "colab": {
          "base_uri": "https://localhost:8080/",
          "height": 269
        }
      },
      "source": [
        "yhat = model.predict(x_data)\n",
        "\n",
        "# 표로 출력\n",
        "plt.plot(x_data, y_data, 'o')\n",
        "plt.plot(x_data, yhat)\n",
        "plt.show()"
      ],
      "execution_count": 8,
      "outputs": [
        {
          "output_type": "display_data",
          "data": {
            "image/png": "[encoded data removed]",
            "text/plain": [
              "<Figure size 432x288 with 1 Axes>"
            ]
          },
          "metadata": {
            "tags": []
          }
        }
      ]
    },
    {
      "cell_type": "code",
      "metadata": {
        "id": "pBhk7vj-irz7",
        "colab_type": "code",
        "colab": {
          "base_uri": "https://localhost:8080/",
          "height": 51
        },
        "outputId": "ce21e2f1-4166-4445-cc07-03c34f7aa205"
      },
      "source": [
        "hist = model.fit(x_data, y_data, epochs=1, batch_size=4)"
      ],
      "execution_count": 76,
      "outputs": [
        {
          "output_type": "stream",
          "text": [
            "Epoch 1/1\n",
            "5/5 [==============================] - 0s 3ms/step - loss: 0.0615 - acc: 1.0000\n"
          ],
          "name": "stdout"
        }
      ]
    },
    {
      "cell_type": "markdown",
      "metadata": {
        "colab_type": "text",
        "id": "YXaVsxPGDTdP"
      },
      "source": [
        "# 다시 돌아와서 가설과 Cost Function을 이용해 계산해봅시다.\n",
        "## GradientTape()\n",
        "* 위에서는 직접 가중치의 업데이트를 진행\n",
        "* TF에서 지원하는 함수로 업데이트할 가중치를 계산해 주는 역할\n",
        "* Cost 함수와 예측 값으로 가중치를 얼마나 업데이트할지 결정해준다."
      ]
    },
    {
      "cell_type": "code",
      "metadata": {
        "colab_type": "code",
        "id": "Q0Ka_VnULyZ2",
        "outputId": "770bc3f4-fe8c-469e-8eb5-7337743e05ce",
        "colab": {
          "base_uri": "https://localhost:8080/",
          "height": 153
        }
      },
      "source": [
        "W = tf.Variable(1.7) # 임의의 값\n",
        "b = tf.Variable(0.5) # 임의의 값\n",
        "\n",
        "with tf.GradientTape() as tape:\n",
        "  hypothesis = W * x_data + b\n",
        "  cost = tf.reduce_mean(tf.square(hypothesis - y_data))\n",
        "  \n",
        "W_grad, b_grad = tape.gradient(cost, [W, b])\n",
        "\n",
        "print(W_grad, b_grad)\n"
      ],
      "execution_count": 0,
      "outputs": [
        {
          "output_type": "stream",
          "text": [
            "Executing op Reshape in device /job:localhost/replica:0/task:0/device:GPU:0\n",
            "Executing op Tile in device /job:localhost/replica:0/task:0/device:GPU:0\n",
            "Executing op RealDiv in device /job:localhost/replica:0/task:0/device:GPU:0\n",
            "Executing op Neg in device /job:localhost/replica:0/task:0/device:GPU:0\n",
            "Executing op Shape in device /job:localhost/replica:0/task:0/device:GPU:0\n",
            "Executing op BroadcastGradientArgs in device /job:localhost/replica:0/task:0/device:GPU:0\n",
            "Executing op Sum in device /job:localhost/replica:0/task:0/device:GPU:0\n",
            "tf.Tensor(18.400002, shape=(), dtype=float32) tf.Tensor(5.2000003, shape=(), dtype=float32)\n"
          ],
          "name": "stdout"
        }
      ]
    },
    {
      "cell_type": "markdown",
      "metadata": {
        "colab_type": "text",
        "id": "WoIf_xhLN77Q"
      },
      "source": [
        "## assign_sub()\n",
        "\n",
        "* A = A - B\n",
        "* A -= B\n",
        "* 위의 계산을 해주는 함수\n",
        "\n",
        "* 가중치 값을 업데이트"
      ]
    },
    {
      "cell_type": "code",
      "metadata": {
        "colab_type": "code",
        "id": "-ZeGq578MItm",
        "outputId": "12d3fb5b-d9fa-4792-dd6c-4118fdd5e429",
        "colab": {
          "base_uri": "https://localhost:8080/",
          "height": 51
        }
      },
      "source": [
        "learning_rate = 0.01\n",
        "\n",
        "W.assign_sub(learning_rate * W_grad)\n",
        "b.assign_sub(learning_rate * b_grad)\n",
        "\n",
        "W.numpy(), b.numpy()"
      ],
      "execution_count": 0,
      "outputs": [
        {
          "output_type": "stream",
          "text": [
            "Executing op AssignSubVariableOp in device /job:localhost/replica:0/task:0/device:GPU:0\n"
          ],
          "name": "stdout"
        },
        {
          "output_type": "execute_result",
          "data": {
            "text/plain": [
              "(1.516, 0.448)"
            ]
          },
          "metadata": {
            "tags": []
          },
          "execution_count": 8
        }
      ]
    },
    {
      "cell_type": "markdown",
      "metadata": {
        "colab_type": "text",
        "id": "pwJH_SysN4LP"
      },
      "source": [
        "### 여러번 돌려봅시다."
      ]
    },
    {
      "cell_type": "code",
      "metadata": {
        "colab_type": "code",
        "id": "Fxj6pWjFOrkP",
        "outputId": "44a84ce4-6380-421c-ebfe-ee2c5b15ab5b",
        "colab": {
          "base_uri": "https://localhost:8080/",
          "height": 439
        }
      },
      "source": [
        "for i in range(100):\n",
        "    with tf.GradientTape() as tape:\n",
        "        #가설 설정\n",
        "        hypothesis = W * x_data + b\n",
        "        # Cost 함수 설정\n",
        "        cost = tf.reduce_mean(tf.square(hypothesis - y_data))\n",
        "        \n",
        "    W_grad, b_grad = tape.gradient(cost, [W, b]) # gradient 계산\n",
        "    \n",
        "    learning_rate = 0.01\n",
        "    # 가중치 업데이트\n",
        "    W.assign_sub(learning_rate * W_grad)\n",
        "    b.assign_sub(learning_rate * b_grad)\n",
        "    \n",
        "    if i % 10 == 0:\n",
        "      print(\"{:5}|{:10.4f}|{:10.4f}|{:10.6f}\".format(i, W.numpy(), b.numpy(), cost))\n",
        "\n",
        "plt.plot(x_data, y_data, 'o')\n",
        "plt.plot(x_data, hypothesis.numpy(), 'r-')\n",
        "plt.show()\n"
      ],
      "execution_count": 0,
      "outputs": [
        {
          "output_type": "stream",
          "text": [
            "    0|    1.3756|    0.4081|  4.516528\n",
            "   10|    0.9549|    0.2814|  0.033990\n",
            "   20|    0.9290|    0.2645|  0.012853\n",
            "   30|    0.9295|    0.2551|  0.011926\n",
            "   40|    0.9317|    0.2466|  0.011144\n",
            "   50|    0.9340|    0.2384|  0.010415\n",
            "   60|    0.9362|    0.2305|  0.009733\n",
            "   70|    0.9383|    0.2228|  0.009095\n",
            "   80|    0.9403|    0.2154|  0.008500\n",
            "   90|    0.9423|    0.2082|  0.007943\n"
          ],
          "name": "stdout"
        },
        {
          "output_type": "display_data",
          "data": {
            "image/png": "[encoded data removed]",
            "text/plain": [
              "<Figure size 432x288 with 1 Axes>"
            ]
          },
          "metadata": {
            "tags": []
          }
        }
      ]
    },
    {
      "cell_type": "code",
      "metadata": {
        "id": "Moapst3mF7jp",
        "colab_type": "code",
        "colab": {}
      },
      "source": [
        ""
      ],
      "execution_count": 0,
      "outputs": []
    }
  ]
}