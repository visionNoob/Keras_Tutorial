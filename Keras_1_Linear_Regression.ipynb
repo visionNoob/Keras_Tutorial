{
  "nbformat": 4,
  "nbformat_minor": 0,
  "metadata": {
    "accelerator": "GPU",
    "colab": {
      "name": "Keras_1_Linear Regression.ipynb",
      "provenance": [],
      "collapsed_sections": [],
      "include_colab_link": true
    },
    "kernelspec": {
      "name": "python3",
      "display_name": "Python 3"
    },
    "language_info": {
      "codemirror_mode": {
        "name": "ipython",
        "version": 3
      },
      "file_extension": ".py",
      "mimetype": "text/x-python",
      "name": "python",
      "nbconvert_exporter": "python",
      "pygments_lexer": "ipython3",
      "version": "3.7.3"
    }
  },
  "cells": [
    {
      "cell_type": "markdown",
      "metadata": {
        "id": "view-in-github",
        "colab_type": "text"
      },
      "source": [
        "<a href=\"https://colab.research.google.com/github/visionNoob/Keras_Tutorial/blob/master/Keras_1_Linear_Regression.ipynb\" target=\"_parent\"><img src=\"https://colab.research.google.com/assets/colab-badge.svg\" alt=\"Open In Colab\"/></a>"
      ]
    },
    {
      "cell_type": "markdown",
      "metadata": {
        "colab_type": "text",
        "id": "z8juHB30ID_y"
      },
      "source": [
        "# Linear Regression (선형 회귀) 예제"
      ]
    },
    {
      "cell_type": "markdown",
      "metadata": {
        "id": "2rC4cBMclMBL",
        "colab_type": "text"
      },
      "source": [
        "# 1. 라이브러리 불러오기"
      ]
    },
    {
      "cell_type": "code",
      "metadata": {
        "colab_type": "code",
        "outputId": "cff8c41c-c425-4435-a242-e9370176699e",
        "id": "gGoUgyQde1B0",
        "colab": {
          "base_uri": "https://localhost:8080/",
          "height": 51
        }
      },
      "source": [
        "# 1.라이브러리 불러오기\n",
        "import tensorflow as tf # 딥러닝 라이브러리\n",
        "import keras # 딥러닝 라이브러리\n",
        "import numpy as np # 수학 계산 라이브러리\n",
        "import matplotlib.pyplot as plt # 그래프 그리는 라이브러리 \n",
        "\n",
        "#항상 버전 확인은 필수\n",
        "print(tf.__version__)\n",
        "print(keras.__version__)"
      ],
      "execution_count": 0,
      "outputs": [
        {
          "output_type": "stream",
          "text": [
            "1.14.0\n",
            "2.2.5\n"
          ],
          "name": "stdout"
        }
      ]
    },
    {
      "cell_type": "markdown",
      "metadata": {
        "id": "_1iSQmcglOT_",
        "colab_type": "text"
      },
      "source": [
        "# 2. 랜덤 시드 설정하기 (중요!)\n",
        "https://keras.io/getting-started/faq/#how-can-i-obtain-reproducible-results-using-keras-during-development"
      ]
    },
    {
      "cell_type": "code",
      "metadata": {
        "id": "wkdun6usk2B9",
        "colab_type": "code",
        "colab": {}
      },
      "source": [
        "# 2.랜덤 시드 고정하기\n",
        "import random\n",
        "seed_value = 42 # 랜덤 시드\n",
        "\n",
        "random.seed(seed_value)\n",
        "np.random.seed(seed_value)\n",
        "tf.set_random_seed(seed_value)"
      ],
      "execution_count": 0,
      "outputs": []
    },
    {
      "cell_type": "markdown",
      "metadata": {
        "colab_type": "text",
        "id": "6UTdIW-gJWwr"
      },
      "source": [
        "# 3. 데이터셋"
      ]
    },
    {
      "cell_type": "code",
      "metadata": {
        "colab_type": "code",
        "id": "R6EeL-OAJpKd",
        "outputId": "6b5f489b-3b9d-4c9e-b87e-f0bfff2d67a3",
        "colab": {
          "base_uri": "https://localhost:8080/",
          "height": 269
        }
      },
      "source": [
        "# 3. 데이터셋\n",
        "# 입력 데이터\n",
        "input_data = np.array([1, 2, 3, 4, 5])\n",
        "\n",
        "# 출력 데이터 (정답)\n",
        "output_data = np.array([1, 2, 3, 4, 5]) \n",
        "\n",
        "# 표로 출력\n",
        "plt.plot(input_data, output_data, 'o')\n",
        "plt.show()"
      ],
      "execution_count": 0,
      "outputs": [
        {
          "output_type": "display_data",
          "data": {
            "image/png": "[encoded data removed]",
            "text/plain": [
              "<Figure size 432x288 with 1 Axes>"
            ]
          },
          "metadata": {
            "tags": []
          }
        }
      ]
    },
    {
      "cell_type": "markdown",
      "metadata": {
        "colab_type": "text",
        "id": "olIAgNvrJ1WO"
      },
      "source": [
        "# 4. 모델 만들기"
      ]
    },
    {
      "cell_type": "code",
      "metadata": {
        "colab_type": "code",
        "id": "31iigy8iLqcO",
        "colab": {}
      },
      "source": [
        "# 4.모델 만들기\n",
        "model = keras.models.Sequential()\n",
        "model.add(keras.layers.Dense\n",
        "          (units=1, input_shape=(1,),\n",
        "           activation=None))"
      ],
      "execution_count": 0,
      "outputs": []
    },
    {
      "cell_type": "markdown",
      "metadata": {
        "id": "hV7QUTceh04D",
        "colab_type": "text"
      },
      "source": [
        "# 5. 모델 학습과정 설정하기"
      ]
    },
    {
      "cell_type": "code",
      "metadata": {
        "id": "FZyrzmBGh0M3",
        "colab_type": "code",
        "colab": {}
      },
      "source": [
        "# 5.모델 학습과정 설정하기\n",
        "model.compile(loss='mse', \n",
        "              optimizer='sgd', \n",
        "              metrics=['mse'])"
      ],
      "execution_count": 0,
      "outputs": []
    },
    {
      "cell_type": "markdown",
      "metadata": {
        "id": "5F-H6VxQiCDN",
        "colab_type": "text"
      },
      "source": [
        "# 6. 모델 학습시키기"
      ]
    },
    {
      "cell_type": "code",
      "metadata": {
        "id": "zt8byFA7UczS",
        "colab_type": "code",
        "outputId": "0506e198-2e3a-4b4a-827a-f3e35f6aabe9",
        "colab": {
          "base_uri": "https://localhost:8080/",
          "height": 1000
        }
      },
      "source": [
        "# 6.모델 학습시키기\n",
        "history = model.fit(input_data, \n",
        "                    output_data, \n",
        "                    epochs=200, \n",
        "                    batch_size=4)"
      ],
      "execution_count": 0,
      "outputs": [
        {
          "output_type": "stream",
          "text": [
            "Epoch 1/200\n",
            "5/5 [==============================] - 0s 19ms/step - loss: 4.6822 - mean_squared_error: 4.6822\n",
            "Epoch 2/200\n",
            "5/5 [==============================] - 0s 2ms/step - loss: 1.6062 - mean_squared_error: 1.6062\n",
            "Epoch 3/200\n",
            "5/5 [==============================] - 0s 2ms/step - loss: 0.2511 - mean_squared_error: 0.2511\n",
            "Epoch 4/200\n",
            "5/5 [==============================] - 0s 2ms/step - loss: 0.0731 - mean_squared_error: 0.0731\n",
            "Epoch 5/200\n",
            "5/5 [==============================] - 0s 2ms/step - loss: 0.0329 - mean_squared_error: 0.0329\n",
            "Epoch 6/200\n",
            "5/5 [==============================] - 0s 2ms/step - loss: 0.0195 - mean_squared_error: 0.0195\n",
            "Epoch 7/200\n",
            "5/5 [==============================] - 0s 2ms/step - loss: 0.0118 - mean_squared_error: 0.0118\n",
            "Epoch 8/200\n",
            "5/5 [==============================] - 0s 2ms/step - loss: 0.0051 - mean_squared_error: 0.0051\n",
            "Epoch 9/200\n",
            "5/5 [==============================] - 0s 2ms/step - loss: 0.0052 - mean_squared_error: 0.0052\n",
            "Epoch 10/200\n",
            "5/5 [==============================] - 0s 2ms/step - loss: 0.0050 - mean_squared_error: 0.0050\n",
            "Epoch 11/200\n",
            "5/5 [==============================] - 0s 2ms/step - loss: 0.0048 - mean_squared_error: 0.0048\n",
            "Epoch 12/200\n",
            "5/5 [==============================] - 0s 2ms/step - loss: 0.0045 - mean_squared_error: 0.0045\n",
            "Epoch 13/200\n",
            "5/5 [==============================] - 0s 2ms/step - loss: 0.0045 - mean_squared_error: 0.0045\n",
            "Epoch 14/200\n",
            "5/5 [==============================] - 0s 2ms/step - loss: 0.0045 - mean_squared_error: 0.0045\n",
            "Epoch 15/200\n",
            "5/5 [==============================] - 0s 1ms/step - loss: 0.0045 - mean_squared_error: 0.0045\n",
            "Epoch 16/200\n",
            "5/5 [==============================] - 0s 1ms/step - loss: 0.0044 - mean_squared_error: 0.0044\n",
            "Epoch 17/200\n",
            "5/5 [==============================] - 0s 2ms/step - loss: 0.0042 - mean_squared_error: 0.0042\n",
            "Epoch 18/200\n",
            "5/5 [==============================] - 0s 2ms/step - loss: 0.0044 - mean_squared_error: 0.0044\n",
            "Epoch 19/200\n",
            "5/5 [==============================] - 0s 1ms/step - loss: 0.0043 - mean_squared_error: 0.0043\n",
            "Epoch 20/200\n",
            "5/5 [==============================] - 0s 2ms/step - loss: 0.0040 - mean_squared_error: 0.0040\n",
            "Epoch 21/200\n",
            "5/5 [==============================] - 0s 2ms/step - loss: 0.0040 - mean_squared_error: 0.0040\n",
            "Epoch 22/200\n",
            "5/5 [==============================] - 0s 2ms/step - loss: 0.0041 - mean_squared_error: 0.0041\n",
            "Epoch 23/200\n",
            "5/5 [==============================] - 0s 2ms/step - loss: 0.0043 - mean_squared_error: 0.0043\n",
            "Epoch 24/200\n",
            "5/5 [==============================] - 0s 1ms/step - loss: 0.0045 - mean_squared_error: 0.0045\n",
            "Epoch 25/200\n",
            "5/5 [==============================] - 0s 2ms/step - loss: 0.0044 - mean_squared_error: 0.0044\n",
            "Epoch 26/200\n",
            "5/5 [==============================] - 0s 2ms/step - loss: 0.0038 - mean_squared_error: 0.0038\n",
            "Epoch 27/200\n",
            "5/5 [==============================] - 0s 2ms/step - loss: 0.0037 - mean_squared_error: 0.0037\n",
            "Epoch 28/200\n",
            "5/5 [==============================] - 0s 2ms/step - loss: 0.0037 - mean_squared_error: 0.0037\n",
            "Epoch 29/200\n",
            "5/5 [==============================] - 0s 2ms/step - loss: 0.0037 - mean_squared_error: 0.0037\n",
            "Epoch 30/200\n",
            "5/5 [==============================] - 0s 2ms/step - loss: 0.0037 - mean_squared_error: 0.0037\n",
            "Epoch 31/200\n",
            "5/5 [==============================] - 0s 2ms/step - loss: 0.0036 - mean_squared_error: 0.0036\n",
            "Epoch 32/200\n",
            "5/5 [==============================] - 0s 2ms/step - loss: 0.0036 - mean_squared_error: 0.0036\n",
            "Epoch 33/200\n",
            "5/5 [==============================] - 0s 2ms/step - loss: 0.0037 - mean_squared_error: 0.0037\n",
            "Epoch 34/200\n",
            "5/5 [==============================] - 0s 2ms/step - loss: 0.0038 - mean_squared_error: 0.0038\n",
            "Epoch 35/200\n",
            "5/5 [==============================] - 0s 2ms/step - loss: 0.0037 - mean_squared_error: 0.0037\n",
            "Epoch 36/200\n",
            "5/5 [==============================] - 0s 2ms/step - loss: 0.0037 - mean_squared_error: 0.0037\n",
            "Epoch 37/200\n",
            "5/5 [==============================] - 0s 2ms/step - loss: 0.0033 - mean_squared_error: 0.0033\n",
            "Epoch 38/200\n",
            "5/5 [==============================] - 0s 2ms/step - loss: 0.0032 - mean_squared_error: 0.0032\n",
            "Epoch 39/200\n",
            "5/5 [==============================] - 0s 2ms/step - loss: 0.0032 - mean_squared_error: 0.0032\n",
            "Epoch 40/200\n",
            "5/5 [==============================] - 0s 2ms/step - loss: 0.0031 - mean_squared_error: 0.0031\n",
            "Epoch 41/200\n",
            "5/5 [==============================] - 0s 1ms/step - loss: 0.0031 - mean_squared_error: 0.0031\n",
            "Epoch 42/200\n",
            "5/5 [==============================] - 0s 2ms/step - loss: 0.0032 - mean_squared_error: 0.0032\n",
            "Epoch 43/200\n",
            "5/5 [==============================] - 0s 2ms/step - loss: 0.0031 - mean_squared_error: 0.0031\n",
            "Epoch 44/200\n",
            "5/5 [==============================] - 0s 2ms/step - loss: 0.0032 - mean_squared_error: 0.0032\n",
            "Epoch 45/200\n",
            "5/5 [==============================] - 0s 2ms/step - loss: 0.0029 - mean_squared_error: 0.0029\n",
            "Epoch 46/200\n",
            "5/5 [==============================] - 0s 2ms/step - loss: 0.0029 - mean_squared_error: 0.0029\n",
            "Epoch 47/200\n",
            "5/5 [==============================] - 0s 2ms/step - loss: 0.0029 - mean_squared_error: 0.0029\n",
            "Epoch 48/200\n",
            "5/5 [==============================] - 0s 3ms/step - loss: 0.0028 - mean_squared_error: 0.0028\n",
            "Epoch 49/200\n",
            "5/5 [==============================] - 0s 2ms/step - loss: 0.0027 - mean_squared_error: 0.0027\n",
            "Epoch 50/200\n",
            "5/5 [==============================] - 0s 4ms/step - loss: 0.0027 - mean_squared_error: 0.0027\n",
            "Epoch 51/200\n",
            "5/5 [==============================] - 0s 3ms/step - loss: 0.0027 - mean_squared_error: 0.0027\n",
            "Epoch 52/200\n",
            "5/5 [==============================] - 0s 3ms/step - loss: 0.0027 - mean_squared_error: 0.0027\n",
            "Epoch 53/200\n",
            "5/5 [==============================] - 0s 3ms/step - loss: 0.0027 - mean_squared_error: 0.0027\n",
            "Epoch 54/200\n",
            "5/5 [==============================] - 0s 4ms/step - loss: 0.0027 - mean_squared_error: 0.0027\n",
            "Epoch 55/200\n",
            "5/5 [==============================] - 0s 2ms/step - loss: 0.0026 - mean_squared_error: 0.0026\n",
            "Epoch 56/200\n",
            "5/5 [==============================] - 0s 2ms/step - loss: 0.0025 - mean_squared_error: 0.0025\n",
            "Epoch 57/200\n",
            "5/5 [==============================] - 0s 2ms/step - loss: 0.0026 - mean_squared_error: 0.0026\n",
            "Epoch 58/200\n",
            "5/5 [==============================] - 0s 3ms/step - loss: 0.0024 - mean_squared_error: 0.0024\n",
            "Epoch 59/200\n",
            "5/5 [==============================] - 0s 2ms/step - loss: 0.0025 - mean_squared_error: 0.0025\n",
            "Epoch 60/200\n",
            "5/5 [==============================] - 0s 2ms/step - loss: 0.0025 - mean_squared_error: 0.0025\n",
            "Epoch 61/200\n",
            "5/5 [==============================] - 0s 2ms/step - loss: 0.0024 - mean_squared_error: 0.0024\n",
            "Epoch 62/200\n",
            "5/5 [==============================] - 0s 2ms/step - loss: 0.0023 - mean_squared_error: 0.0023\n",
            "Epoch 63/200\n",
            "5/5 [==============================] - 0s 2ms/step - loss: 0.0023 - mean_squared_error: 0.0023\n",
            "Epoch 64/200\n",
            "5/5 [==============================] - 0s 2ms/step - loss: 0.0023 - mean_squared_error: 0.0023\n",
            "Epoch 65/200\n",
            "5/5 [==============================] - 0s 2ms/step - loss: 0.0022 - mean_squared_error: 0.0022\n",
            "Epoch 66/200\n",
            "5/5 [==============================] - 0s 2ms/step - loss: 0.0022 - mean_squared_error: 0.0022\n",
            "Epoch 67/200\n",
            "5/5 [==============================] - 0s 1ms/step - loss: 0.0023 - mean_squared_error: 0.0023\n",
            "Epoch 68/200\n",
            "5/5 [==============================] - 0s 2ms/step - loss: 0.0023 - mean_squared_error: 0.0023\n",
            "Epoch 69/200\n",
            "5/5 [==============================] - 0s 2ms/step - loss: 0.0022 - mean_squared_error: 0.0022\n",
            "Epoch 70/200\n",
            "5/5 [==============================] - 0s 2ms/step - loss: 0.0021 - mean_squared_error: 0.0021\n",
            "Epoch 71/200\n",
            "5/5 [==============================] - 0s 2ms/step - loss: 0.0020 - mean_squared_error: 0.0020\n",
            "Epoch 72/200\n",
            "5/5 [==============================] - 0s 2ms/step - loss: 0.0020 - mean_squared_error: 0.0020\n",
            "Epoch 73/200\n",
            "5/5 [==============================] - 0s 2ms/step - loss: 0.0020 - mean_squared_error: 0.0020\n",
            "Epoch 74/200\n",
            "5/5 [==============================] - 0s 2ms/step - loss: 0.0020 - mean_squared_error: 0.0020\n",
            "Epoch 75/200\n",
            "5/5 [==============================] - 0s 2ms/step - loss: 0.0021 - mean_squared_error: 0.0021\n",
            "Epoch 76/200\n",
            "5/5 [==============================] - 0s 2ms/step - loss: 0.0020 - mean_squared_error: 0.0020\n",
            "Epoch 77/200\n",
            "5/5 [==============================] - 0s 2ms/step - loss: 0.0020 - mean_squared_error: 0.0020\n",
            "Epoch 78/200\n",
            "5/5 [==============================] - 0s 2ms/step - loss: 0.0019 - mean_squared_error: 0.0019\n",
            "Epoch 79/200\n",
            "5/5 [==============================] - 0s 2ms/step - loss: 0.0019 - mean_squared_error: 0.0019\n",
            "Epoch 80/200\n",
            "5/5 [==============================] - 0s 2ms/step - loss: 0.0020 - mean_squared_error: 0.0020\n",
            "Epoch 81/200\n",
            "5/5 [==============================] - 0s 2ms/step - loss: 0.0018 - mean_squared_error: 0.0018    \n",
            "Epoch 82/200\n",
            "5/5 [==============================] - 0s 2ms/step - loss: 0.0018 - mean_squared_error: 0.0018\n",
            "Epoch 83/200\n",
            "5/5 [==============================] - 0s 2ms/step - loss: 0.0019 - mean_squared_error: 0.0019\n",
            "Epoch 84/200\n",
            "5/5 [==============================] - 0s 2ms/step - loss: 0.0019 - mean_squared_error: 0.0019\n",
            "Epoch 85/200\n",
            "5/5 [==============================] - 0s 2ms/step - loss: 0.0017 - mean_squared_error: 0.0017\n",
            "Epoch 86/200\n",
            "5/5 [==============================] - 0s 2ms/step - loss: 0.0017 - mean_squared_error: 0.0017\n",
            "Epoch 87/200\n",
            "5/5 [==============================] - 0s 2ms/step - loss: 0.0016 - mean_squared_error: 0.0016\n",
            "Epoch 88/200\n",
            "5/5 [==============================] - 0s 2ms/step - loss: 0.0016 - mean_squared_error: 0.0016\n",
            "Epoch 89/200\n",
            "5/5 [==============================] - 0s 2ms/step - loss: 0.0017 - mean_squared_error: 0.0017    \n",
            "Epoch 90/200\n",
            "5/5 [==============================] - 0s 2ms/step - loss: 0.0017 - mean_squared_error: 0.0017\n",
            "Epoch 91/200\n",
            "5/5 [==============================] - 0s 2ms/step - loss: 0.0017 - mean_squared_error: 0.0017\n",
            "Epoch 92/200\n",
            "5/5 [==============================] - 0s 2ms/step - loss: 0.0017 - mean_squared_error: 0.0017\n",
            "Epoch 93/200\n",
            "5/5 [==============================] - 0s 2ms/step - loss: 0.0016 - mean_squared_error: 0.0016\n",
            "Epoch 94/200\n",
            "5/5 [==============================] - 0s 3ms/step - loss: 0.0015 - mean_squared_error: 0.0015\n",
            "Epoch 95/200\n",
            "5/5 [==============================] - 0s 2ms/step - loss: 0.0015 - mean_squared_error: 0.0015\n",
            "Epoch 96/200\n",
            "5/5 [==============================] - 0s 1ms/step - loss: 0.0015 - mean_squared_error: 0.0015\n",
            "Epoch 97/200\n",
            "5/5 [==============================] - 0s 2ms/step - loss: 0.0015 - mean_squared_error: 0.0015\n",
            "Epoch 98/200\n",
            "5/5 [==============================] - 0s 2ms/step - loss: 0.0015 - mean_squared_error: 0.0015\n",
            "Epoch 99/200\n",
            "5/5 [==============================] - 0s 2ms/step - loss: 0.0015 - mean_squared_error: 0.0015\n",
            "Epoch 100/200\n",
            "5/5 [==============================] - 0s 2ms/step - loss: 0.0015 - mean_squared_error: 0.0015\n",
            "Epoch 101/200\n",
            "5/5 [==============================] - 0s 2ms/step - loss: 0.0014 - mean_squared_error: 0.0014\n",
            "Epoch 102/200\n",
            "5/5 [==============================] - 0s 2ms/step - loss: 0.0014 - mean_squared_error: 0.0014\n",
            "Epoch 103/200\n",
            "5/5 [==============================] - 0s 2ms/step - loss: 0.0014 - mean_squared_error: 0.0014\n",
            "Epoch 104/200\n",
            "5/5 [==============================] - 0s 2ms/step - loss: 0.0014 - mean_squared_error: 0.0014\n",
            "Epoch 105/200\n",
            "5/5 [==============================] - 0s 2ms/step - loss: 0.0014 - mean_squared_error: 0.0014\n",
            "Epoch 106/200\n",
            "5/5 [==============================] - 0s 2ms/step - loss: 0.0014 - mean_squared_error: 0.0014    \n",
            "Epoch 107/200\n",
            "5/5 [==============================] - 0s 2ms/step - loss: 0.0014 - mean_squared_error: 0.0014    \n",
            "Epoch 108/200\n",
            "5/5 [==============================] - 0s 2ms/step - loss: 0.0014 - mean_squared_error: 0.0014\n",
            "Epoch 109/200\n",
            "5/5 [==============================] - 0s 2ms/step - loss: 0.0013 - mean_squared_error: 0.0013\n",
            "Epoch 110/200\n",
            "5/5 [==============================] - 0s 2ms/step - loss: 0.0013 - mean_squared_error: 0.0013\n",
            "Epoch 111/200\n",
            "5/5 [==============================] - 0s 2ms/step - loss: 0.0012 - mean_squared_error: 0.0012\n",
            "Epoch 112/200\n",
            "5/5 [==============================] - 0s 2ms/step - loss: 0.0012 - mean_squared_error: 0.0012\n",
            "Epoch 113/200\n",
            "5/5 [==============================] - 0s 2ms/step - loss: 0.0012 - mean_squared_error: 0.0012    \n",
            "Epoch 114/200\n",
            "5/5 [==============================] - 0s 2ms/step - loss: 0.0012 - mean_squared_error: 0.0012\n",
            "Epoch 115/200\n",
            "5/5 [==============================] - 0s 2ms/step - loss: 0.0012 - mean_squared_error: 0.0012\n",
            "Epoch 116/200\n",
            "5/5 [==============================] - 0s 2ms/step - loss: 0.0012 - mean_squared_error: 0.0012    \n",
            "Epoch 117/200\n",
            "5/5 [==============================] - 0s 2ms/step - loss: 0.0011 - mean_squared_error: 0.0011\n",
            "Epoch 118/200\n",
            "5/5 [==============================] - 0s 2ms/step - loss: 0.0011 - mean_squared_error: 0.0011\n",
            "Epoch 119/200\n",
            "5/5 [==============================] - 0s 2ms/step - loss: 0.0011 - mean_squared_error: 0.0011\n",
            "Epoch 120/200\n",
            "5/5 [==============================] - 0s 2ms/step - loss: 0.0011 - mean_squared_error: 0.0011\n",
            "Epoch 121/200\n",
            "5/5 [==============================] - 0s 2ms/step - loss: 0.0011 - mean_squared_error: 0.0011\n",
            "Epoch 122/200\n",
            "5/5 [==============================] - 0s 2ms/step - loss: 0.0010 - mean_squared_error: 0.0010\n",
            "Epoch 123/200\n",
            "5/5 [==============================] - 0s 2ms/step - loss: 0.0010 - mean_squared_error: 0.0010\n",
            "Epoch 124/200\n",
            "5/5 [==============================] - 0s 2ms/step - loss: 0.0011 - mean_squared_error: 0.0011    \n",
            "Epoch 125/200\n",
            "5/5 [==============================] - 0s 2ms/step - loss: 0.0011 - mean_squared_error: 0.0011\n",
            "Epoch 126/200\n",
            "5/5 [==============================] - 0s 2ms/step - loss: 0.0011 - mean_squared_error: 0.0011\n",
            "Epoch 127/200\n",
            "5/5 [==============================] - 0s 2ms/step - loss: 0.0010 - mean_squared_error: 0.0010    \n",
            "Epoch 128/200\n",
            "5/5 [==============================] - 0s 2ms/step - loss: 0.0010 - mean_squared_error: 0.0010\n",
            "Epoch 129/200\n",
            "5/5 [==============================] - 0s 2ms/step - loss: 0.0010 - mean_squared_error: 0.0010    \n",
            "Epoch 130/200\n",
            "5/5 [==============================] - 0s 2ms/step - loss: 9.3392e-04 - mean_squared_error: 9.3392e-04\n",
            "Epoch 131/200\n",
            "5/5 [==============================] - 0s 2ms/step - loss: 9.2300e-04 - mean_squared_error: 9.2300e-04\n",
            "Epoch 132/200\n",
            "5/5 [==============================] - 0s 2ms/step - loss: 9.2793e-04 - mean_squared_error: 9.2793e-04\n",
            "Epoch 133/200\n",
            "5/5 [==============================] - 0s 2ms/step - loss: 9.3205e-04 - mean_squared_error: 9.3205e-04\n",
            "Epoch 134/200\n",
            "5/5 [==============================] - 0s 2ms/step - loss: 9.4556e-04 - mean_squared_error: 9.4556e-04\n",
            "Epoch 135/200\n",
            "5/5 [==============================] - 0s 2ms/step - loss: 9.2260e-04 - mean_squared_error: 9.2260e-04\n",
            "Epoch 136/200\n",
            "5/5 [==============================] - 0s 3ms/step - loss: 8.6850e-04 - mean_squared_error: 8.6850e-04\n",
            "Epoch 137/200\n",
            "5/5 [==============================] - 0s 2ms/step - loss: 8.6719e-04 - mean_squared_error: 8.6719e-04\n",
            "Epoch 138/200\n",
            "5/5 [==============================] - 0s 2ms/step - loss: 8.6421e-04 - mean_squared_error: 8.6421e-04\n",
            "Epoch 139/200\n",
            "5/5 [==============================] - 0s 3ms/step - loss: 8.5968e-04 - mean_squared_error: 8.5968e-04\n",
            "Epoch 140/200\n",
            "5/5 [==============================] - 0s 2ms/step - loss: 8.7774e-04 - mean_squared_error: 8.7774e-04\n",
            "Epoch 141/200\n",
            "5/5 [==============================] - 0s 2ms/step - loss: 8.4655e-04 - mean_squared_error: 8.4655e-04\n",
            "Epoch 142/200\n",
            "5/5 [==============================] - 0s 2ms/step - loss: 8.0576e-04 - mean_squared_error: 8.0576e-04\n",
            "Epoch 143/200\n",
            "5/5 [==============================] - 0s 3ms/step - loss: 7.9938e-04 - mean_squared_error: 7.9938e-04\n",
            "Epoch 144/200\n",
            "5/5 [==============================] - 0s 2ms/step - loss: 7.9539e-04 - mean_squared_error: 7.9539e-04\n",
            "Epoch 145/200\n",
            "5/5 [==============================] - 0s 2ms/step - loss: 7.9028e-04 - mean_squared_error: 7.9028e-04\n",
            "Epoch 146/200\n",
            "5/5 [==============================] - 0s 2ms/step - loss: 7.9592e-04 - mean_squared_error: 7.9592e-04\n",
            "Epoch 147/200\n",
            "5/5 [==============================] - 0s 2ms/step - loss: 8.0757e-04 - mean_squared_error: 8.0757e-04\n",
            "Epoch 148/200\n",
            "5/5 [==============================] - 0s 2ms/step - loss: 7.7237e-04 - mean_squared_error: 7.7237e-04\n",
            "Epoch 149/200\n",
            "5/5 [==============================] - 0s 2ms/step - loss: 7.5212e-04 - mean_squared_error: 7.5212e-04\n",
            "Epoch 150/200\n",
            "5/5 [==============================] - 0s 2ms/step - loss: 7.5037e-04 - mean_squared_error: 7.5037e-04\n",
            "Epoch 151/200\n",
            "5/5 [==============================] - 0s 2ms/step - loss: 7.9500e-04 - mean_squared_error: 7.9500e-04\n",
            "Epoch 152/200\n",
            "5/5 [==============================] - 0s 2ms/step - loss: 7.9429e-04 - mean_squared_error: 7.9429e-04\n",
            "Epoch 153/200\n",
            "5/5 [==============================] - 0s 2ms/step - loss: 7.1038e-04 - mean_squared_error: 7.1038e-04\n",
            "Epoch 154/200\n",
            "5/5 [==============================] - 0s 2ms/step - loss: 6.8229e-04 - mean_squared_error: 6.8229e-04\n",
            "Epoch 155/200\n",
            "5/5 [==============================] - 0s 2ms/step - loss: 6.9532e-04 - mean_squared_error: 6.9532e-04\n",
            "Epoch 156/200\n",
            "5/5 [==============================] - 0s 2ms/step - loss: 6.8435e-04 - mean_squared_error: 6.8435e-04\n",
            "Epoch 157/200\n",
            "5/5 [==============================] - 0s 2ms/step - loss: 6.5168e-04 - mean_squared_error: 6.5168e-04\n",
            "Epoch 158/200\n",
            "5/5 [==============================] - 0s 2ms/step - loss: 6.4246e-04 - mean_squared_error: 6.4246e-04\n",
            "Epoch 159/200\n",
            "5/5 [==============================] - 0s 2ms/step - loss: 6.5137e-04 - mean_squared_error: 6.5137e-04\n",
            "Epoch 160/200\n",
            "5/5 [==============================] - 0s 2ms/step - loss: 6.6100e-04 - mean_squared_error: 6.6100e-04\n",
            "Epoch 161/200\n",
            "5/5 [==============================] - 0s 2ms/step - loss: 6.5556e-04 - mean_squared_error: 6.5556e-04\n",
            "Epoch 162/200\n",
            "5/5 [==============================] - 0s 2ms/step - loss: 6.2934e-04 - mean_squared_error: 6.2934e-04\n",
            "Epoch 163/200\n",
            "5/5 [==============================] - 0s 2ms/step - loss: 5.9825e-04 - mean_squared_error: 5.9825e-04\n",
            "Epoch 164/200\n",
            "5/5 [==============================] - 0s 2ms/step - loss: 5.9351e-04 - mean_squared_error: 5.9351e-04\n",
            "Epoch 165/200\n",
            "5/5 [==============================] - 0s 2ms/step - loss: 6.0418e-04 - mean_squared_error: 6.0418e-04\n",
            "Epoch 166/200\n",
            "5/5 [==============================] - 0s 2ms/step - loss: 6.0199e-04 - mean_squared_error: 6.0199e-04\n",
            "Epoch 167/200\n",
            "5/5 [==============================] - 0s 2ms/step - loss: 5.7977e-04 - mean_squared_error: 5.7977e-04\n",
            "Epoch 168/200\n",
            "5/5 [==============================] - 0s 2ms/step - loss: 5.5384e-04 - mean_squared_error: 5.5384e-04\n",
            "Epoch 169/200\n",
            "5/5 [==============================] - 0s 2ms/step - loss: 5.5119e-04 - mean_squared_error: 5.5119e-04\n",
            "Epoch 170/200\n",
            "5/5 [==============================] - 0s 2ms/step - loss: 5.4627e-04 - mean_squared_error: 5.4627e-04\n",
            "Epoch 171/200\n",
            "5/5 [==============================] - 0s 2ms/step - loss: 5.3266e-04 - mean_squared_error: 5.3266e-04\n",
            "Epoch 172/200\n",
            "5/5 [==============================] - 0s 2ms/step - loss: 5.3271e-04 - mean_squared_error: 5.3271e-04\n",
            "Epoch 173/200\n",
            "5/5 [==============================] - 0s 2ms/step - loss: 5.4456e-04 - mean_squared_error: 5.4456e-04\n",
            "Epoch 174/200\n",
            "5/5 [==============================] - 0s 2ms/step - loss: 5.5223e-04 - mean_squared_error: 5.5223e-04\n",
            "Epoch 175/200\n",
            "5/5 [==============================] - 0s 2ms/step - loss: 5.6406e-04 - mean_squared_error: 5.6406e-04\n",
            "Epoch 176/200\n",
            "5/5 [==============================] - 0s 2ms/step - loss: 5.2271e-04 - mean_squared_error: 5.2271e-04\n",
            "Epoch 177/200\n",
            "5/5 [==============================] - 0s 2ms/step - loss: 4.9474e-04 - mean_squared_error: 4.9474e-04\n",
            "Epoch 178/200\n",
            "5/5 [==============================] - 0s 2ms/step - loss: 4.9202e-04 - mean_squared_error: 4.9202e-04\n",
            "Epoch 179/200\n",
            "5/5 [==============================] - 0s 2ms/step - loss: 4.9712e-04 - mean_squared_error: 4.9712e-04\n",
            "Epoch 180/200\n",
            "5/5 [==============================] - 0s 2ms/step - loss: 5.0426e-04 - mean_squared_error: 5.0426e-04\n",
            "Epoch 181/200\n",
            "5/5 [==============================] - 0s 2ms/step - loss: 4.8884e-04 - mean_squared_error: 4.8884e-04\n",
            "Epoch 182/200\n",
            "5/5 [==============================] - 0s 2ms/step - loss: 4.6744e-04 - mean_squared_error: 4.6744e-04\n",
            "Epoch 183/200\n",
            "5/5 [==============================] - 0s 2ms/step - loss: 4.7358e-04 - mean_squared_error: 4.7358e-04\n",
            "Epoch 184/200\n",
            "5/5 [==============================] - 0s 2ms/step - loss: 4.6784e-04 - mean_squared_error: 4.6784e-04\n",
            "Epoch 185/200\n",
            "5/5 [==============================] - 0s 4ms/step - loss: 4.7036e-04 - mean_squared_error: 4.7036e-04\n",
            "Epoch 186/200\n",
            "5/5 [==============================] - 0s 2ms/step - loss: 4.4474e-04 - mean_squared_error: 4.4474e-04\n",
            "Epoch 187/200\n",
            "5/5 [==============================] - 0s 2ms/step - loss: 4.2486e-04 - mean_squared_error: 4.2486e-04\n",
            "Epoch 188/200\n",
            "5/5 [==============================] - 0s 2ms/step - loss: 4.1972e-04 - mean_squared_error: 4.1972e-04\n",
            "Epoch 189/200\n",
            "5/5 [==============================] - 0s 2ms/step - loss: 4.1272e-04 - mean_squared_error: 4.1272e-04\n",
            "Epoch 190/200\n",
            "5/5 [==============================] - 0s 2ms/step - loss: 4.1007e-04 - mean_squared_error: 4.1007e-04\n",
            "Epoch 191/200\n",
            "5/5 [==============================] - 0s 2ms/step - loss: 4.0828e-04 - mean_squared_error: 4.0828e-04\n",
            "Epoch 192/200\n",
            "5/5 [==============================] - 0s 2ms/step - loss: 4.0880e-04 - mean_squared_error: 4.0880e-04\n",
            "Epoch 193/200\n",
            "5/5 [==============================] - 0s 2ms/step - loss: 4.1523e-04 - mean_squared_error: 4.1523e-04\n",
            "Epoch 194/200\n",
            "5/5 [==============================] - 0s 2ms/step - loss: 4.1993e-04 - mean_squared_error: 4.1993e-04\n",
            "Epoch 195/200\n",
            "5/5 [==============================] - 0s 2ms/step - loss: 4.2199e-04 - mean_squared_error: 4.2199e-04\n",
            "Epoch 196/200\n",
            "5/5 [==============================] - 0s 2ms/step - loss: 4.0231e-04 - mean_squared_error: 4.0231e-04\n",
            "Epoch 197/200\n",
            "5/5 [==============================] - 0s 2ms/step - loss: 3.7327e-04 - mean_squared_error: 3.7327e-04\n",
            "Epoch 198/200\n",
            "5/5 [==============================] - 0s 2ms/step - loss: 3.7666e-04 - mean_squared_error: 3.7666e-04\n",
            "Epoch 199/200\n",
            "5/5 [==============================] - 0s 3ms/step - loss: 3.7694e-04 - mean_squared_error: 3.7694e-04\n",
            "Epoch 200/200\n",
            "5/5 [==============================] - 0s 3ms/step - loss: 3.6734e-04 - mean_squared_error: 3.6734e-04\n"
          ],
          "name": "stdout"
        }
      ]
    },
    {
      "cell_type": "markdown",
      "metadata": {
        "id": "ClX-yYJBaXo4",
        "colab_type": "text"
      },
      "source": [
        "# 7.결과 출력"
      ]
    },
    {
      "cell_type": "code",
      "metadata": {
        "id": "CzxycS1laEdO",
        "colab_type": "code",
        "outputId": "36a19b47-1d3e-4ab0-f50c-9d3526efed0b",
        "colab": {
          "base_uri": "https://localhost:8080/",
          "height": 286
        }
      },
      "source": [
        "# Loss 출력\n",
        "print(history.history.keys())\n",
        "plt.plot(history.history['loss'])\n",
        "plt.show()"
      ],
      "execution_count": 0,
      "outputs": [
        {
          "output_type": "stream",
          "text": [
            "dict_keys(['loss', 'mean_squared_error'])\n"
          ],
          "name": "stdout"
        },
        {
          "output_type": "display_data",
          "data": {
            "image/png": "[encoded data removed]",
            "text/plain": [
              "<Figure size 432x288 with 1 Axes>"
            ]
          },
          "metadata": {
            "tags": []
          }
        }
      ]
    },
    {
      "cell_type": "code",
      "metadata": {
        "colab_type": "code",
        "id": "DcbA7CkYH5IW",
        "scrolled": false,
        "outputId": "200a96a9-37c5-4da7-f5ef-e11fe6ee6442",
        "colab": {
          "base_uri": "https://localhost:8080/",
          "height": 269
        }
      },
      "source": [
        "# 예측값 출력\n",
        "yhat = model.predict(input_data)\n",
        "\n",
        "plt.plot(input_data, output_data, 'o')\n",
        "plt.plot(input_data, output_data)\n",
        "plt.show()"
      ],
      "execution_count": 0,
      "outputs": [
        {
          "output_type": "display_data",
          "data": {
            "image/png": "[encoded data removed]",
            "text/plain": [
              "<Figure size 432x288 with 1 Axes>"
            ]
          },
          "metadata": {
            "tags": []
          }
        }
      ]
    },
    {
      "cell_type": "markdown",
      "metadata": {
        "id": "QAE6FDlnUqUv",
        "colab_type": "text"
      },
      "source": [
        "# 8. 모델 테스트"
      ]
    },
    {
      "cell_type": "code",
      "metadata": {
        "id": "fGLM2q6nUuv2",
        "colab_type": "code",
        "outputId": "aeaea43b-9f86-4f28-bd79-2e95daa7ac32",
        "colab": {
          "base_uri": "https://localhost:8080/",
          "height": 51
        }
      },
      "source": [
        "# 8.모델 테스트\n",
        "\n",
        "# 테스트 입력 데이터\n",
        "input_testdata = np.array(\n",
        "    [1.5, 2.5, 3.5, 4.5, 5.5])\n",
        "\n",
        "# 테스트 출력 데이터 (정답)\n",
        "output_testdata = np.array(\n",
        "    [1.5, 2.5, 3.5, 4.5, 5.5]) \n",
        "\n",
        "evalute_result = model.evaluate(input_testdata, \n",
        "                                output_testdata, \n",
        "                                batch_size=4)\n",
        "print(evalute_result)"
      ],
      "execution_count": 0,
      "outputs": [
        {
          "output_type": "stream",
          "text": [
            "5/5 [==============================] - 0s 6ms/step\n",
            "[0.0003084124531596899, 0.0003084124531596899]\n"
          ],
          "name": "stdout"
        }
      ]
    },
    {
      "cell_type": "code",
      "metadata": {
        "id": "80JSbEV8UseS",
        "colab_type": "code",
        "outputId": "46ca5602-a2cf-41ad-c8fe-297b897b5572",
        "colab": {
          "base_uri": "https://localhost:8080/",
          "height": 269
        }
      },
      "source": [
        "yhat = model.predict(input_testdata)\n",
        "\n",
        "# 표로 출력\n",
        "plt.plot(input_testdata, output_testdata, 'o')\n",
        "plt.plot(input_testdata, yhat)\n",
        "plt.show()"
      ],
      "execution_count": 47,
      "outputs": [
        {
          "output_type": "display_data",
          "data": {
            "image/png": "[encoded data removed]",
            "text/plain": [
              "<Figure size 432x288 with 1 Axes>"
            ]
          },
          "metadata": {
            "tags": []
          }
        }
      ]
    },
    {
      "cell_type": "code",
      "metadata": {
        "id": "2UGFaLiZf1yk",
        "colab_type": "code",
        "colab": {}
      },
      "source": [
        ""
      ],
      "execution_count": 0,
      "outputs": []
    }
  ]
}