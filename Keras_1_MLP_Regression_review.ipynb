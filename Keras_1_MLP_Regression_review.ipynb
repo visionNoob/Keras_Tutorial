{
  "nbformat": 4,
  "nbformat_minor": 0,
  "metadata": {
    "accelerator": "GPU",
    "colab": {
      "name": "Keras_1_MLP_Regression_review.ipynb",
      "provenance": [],
      "collapsed_sections": [],
      "include_colab_link": true
    },
    "kernelspec": {
      "name": "python3",
      "display_name": "Python 3"
    },
    "language_info": {
      "codemirror_mode": {
        "name": "ipython",
        "version": 3
      },
      "file_extension": ".py",
      "mimetype": "text/x-python",
      "name": "python",
      "nbconvert_exporter": "python",
      "pygments_lexer": "ipython3",
      "version": "3.7.3"
    }
  },
  "cells": [
    {
      "cell_type": "markdown",
      "metadata": {
        "id": "view-in-github",
        "colab_type": "text"
      },
      "source": [
        "<a href=\"https://colab.research.google.com/github/visionNoob/Keras_Tutorial/blob/master/Keras_1_MLP_Regression_review.ipynb\" target=\"_parent\"><img src=\"https://colab.research.google.com/assets/colab-badge.svg\" alt=\"Open In Colab\"/></a>"
      ]
    },
    {
      "cell_type": "markdown",
      "metadata": {
        "colab_type": "text",
        "id": "z8juHB30ID_y"
      },
      "source": [
        "# Linear Regression (선형 회귀) 예제 복습"
      ]
    },
    {
      "cell_type": "markdown",
      "metadata": {
        "id": "2rC4cBMclMBL",
        "colab_type": "text"
      },
      "source": [
        "# 1. 라이브러리 불러오기"
      ]
    },
    {
      "cell_type": "code",
      "metadata": {
        "colab_type": "code",
        "outputId": "b48a78c7-0d2c-4902-890c-c202466caff2",
        "id": "gGoUgyQde1B0",
        "colab": {
          "base_uri": "https://localhost:8080/",
          "height": 68
        }
      },
      "source": [
        "# 1.라이브러리 불러오기\n",
        "import tensorflow as tf # 딥러닝 라이브러리\n",
        "import keras # 딥러닝 라이브러리\n",
        "import numpy as np # 수학 계산 라이브러리\n",
        "import matplotlib.pyplot as plt # 그래프 그리는 라이브러리 \n",
        "\n",
        "# 항상 버전 확인은 필수\n",
        "print(tf.__version__)\n",
        "print(keras.__version__)"
      ],
      "execution_count": 0,
      "outputs": [
        {
          "output_type": "stream",
          "text": [
            "1.15.0-rc3\n",
            "2.2.5\n"
          ],
          "name": "stdout"
        },
        {
          "output_type": "stream",
          "text": [
            "Using TensorFlow backend.\n"
          ],
          "name": "stderr"
        }
      ]
    },
    {
      "cell_type": "markdown",
      "metadata": {
        "id": "_1iSQmcglOT_",
        "colab_type": "text"
      },
      "source": [
        "# 2. 랜덤 시드 설정하기 (중요!)\n",
        "https://keras.io/getting-started/faq/#how-can-i-obtain-reproducible-results-using-keras-during-development"
      ]
    },
    {
      "cell_type": "code",
      "metadata": {
        "id": "wkdun6usk2B9",
        "colab_type": "code",
        "colab": {}
      },
      "source": [
        "# 2.랜덤 시드 고정하기\n",
        "import random\n",
        "seed_value = 42 # 랜덤 시드 ; 삶, 우주, 그리고 모든 것에 대한 궁극적인 질문에 대한 해답.\n",
        "\n",
        "random.seed(seed_value)\n",
        "np.random.seed(seed_value)\n",
        "tf.set_random_seed(seed_value)"
      ],
      "execution_count": 0,
      "outputs": []
    },
    {
      "cell_type": "markdown",
      "metadata": {
        "colab_type": "text",
        "id": "6UTdIW-gJWwr"
      },
      "source": [
        "# 3. 데이터셋"
      ]
    },
    {
      "cell_type": "code",
      "metadata": {
        "colab_type": "code",
        "id": "R6EeL-OAJpKd",
        "outputId": "b22173eb-12e7-4f1d-fdc1-e77a15e6c48d",
        "colab": {
          "base_uri": "https://localhost:8080/",
          "height": 269
        }
      },
      "source": [
        "def preprocess_data(data):\n",
        "  return data - 3\n",
        "\n",
        "# 3. 데이터셋\n",
        "# 학습 데이터 (Trianing data)\n",
        "input_data = np.array([1, 2, 3, 4, 5])\n",
        "output_data = np.array([0, 3, 2, 5, 4]) \n",
        "\n",
        "input_data = preprocess_data(input_data)\n",
        "output_data = preprocess_data(output_data)\n",
        "\n",
        "# 검증 데이터 (Validation data)\n",
        "input_val_data = np.array([1.5, 2.5, 3.5, 4.5, 5.5])\n",
        "output_val_data = np.array([1.5, 2.5, 3.5, 4.5, 5.5]) \n",
        "\n",
        "input_val_data = preprocess_data(input_val_data)\n",
        "output_val_data = preprocess_data(output_val_data)\n",
        "\n",
        "# 시험 데이터 (Test data)\n",
        "input_test_data = np.array([1.3, 2.7, 3.3, 4.7, 5.3])\n",
        "output_test_data = np.array([1.7, 2.3, 3.7, 4.3, 5.7]) \n",
        "\n",
        "input_test_data = preprocess_data(input_test_data)\n",
        "output_test_data = preprocess_data(output_test_data)\n",
        "\n",
        "# 표로 출력\n",
        "plt.plot(input_data, output_data, 'o')\n",
        "plt.plot(input_val_data, output_val_data, 'o')\n",
        "plt.plot(input_test_data, output_test_data, 'o')\n",
        "plt.legend(('train', 'val', 'test'))\n",
        "plt.show()"
      ],
      "execution_count": 2,
      "outputs": [
        {
          "output_type": "display_data",
          "data": {
            "image/png": "[encoded data removed]",
            "text/plain": [
              "<Figure size 432x288 with 1 Axes>"
            ]
          },
          "metadata": {
            "tags": []
          }
        }
      ]
    },
    {
      "cell_type": "markdown",
      "metadata": {
        "colab_type": "text",
        "id": "olIAgNvrJ1WO"
      },
      "source": [
        "# 4. 모델 만들기"
      ]
    },
    {
      "cell_type": "code",
      "metadata": {
        "colab_type": "code",
        "id": "31iigy8iLqcO",
        "colab": {}
      },
      "source": [
        "# 4.모델 만들기\n",
        "model = keras.models.Sequential()\n",
        "model.add(keras.layers.Dense(units=16, input_shape=(1,),activation='relu'))\n",
        "model.add(keras.layers.Dense(units=16, activation='relu'))\n",
        "model.add(keras.layers.Dense(units=1, activation=None))\n"
      ],
      "execution_count": 0,
      "outputs": []
    },
    {
      "cell_type": "code",
      "metadata": {
        "id": "52uZ3mGR9TKu",
        "colab_type": "code",
        "colab": {
          "base_uri": "https://localhost:8080/",
          "height": 255
        },
        "outputId": "3236e0a3-3686-4537-9873-7cbc6f8db7dd"
      },
      "source": [
        "model.summary()"
      ],
      "execution_count": 23,
      "outputs": [
        {
          "output_type": "stream",
          "text": [
            "Model: \"sequential_4\"\n",
            "_________________________________________________________________\n",
            "Layer (type)                 Output Shape              Param #   \n",
            "=================================================================\n",
            "dense_10 (Dense)             (None, 16)                32        \n",
            "_________________________________________________________________\n",
            "dense_11 (Dense)             (None, 16)                272       \n",
            "_________________________________________________________________\n",
            "dense_12 (Dense)             (None, 1)                 17        \n",
            "=================================================================\n",
            "Total params: 321\n",
            "Trainable params: 321\n",
            "Non-trainable params: 0\n",
            "_________________________________________________________________\n"
          ],
          "name": "stdout"
        }
      ]
    },
    {
      "cell_type": "markdown",
      "metadata": {
        "id": "hV7QUTceh04D",
        "colab_type": "text"
      },
      "source": [
        "# 5. 모델 학습과정 설정하기"
      ]
    },
    {
      "cell_type": "code",
      "metadata": {
        "id": "FZyrzmBGh0M3",
        "colab_type": "code",
        "colab": {}
      },
      "source": [
        "# 5.모델 학습과정 설정하기\n",
        "# sgd = keras.optimizers.SGD(learning_rate=0.01, momentum=0.0, nesterov=False)\n",
        "model.compile(loss='mse', optimizer='sgd', metrics=['mse'])"
      ],
      "execution_count": 0,
      "outputs": []
    },
    {
      "cell_type": "code",
      "metadata": {
        "id": "hxUlxR9IbpnH",
        "colab_type": "code",
        "colab": {}
      },
      "source": [
        "#es =  keras.callbacks.EarlyStopping(monitor='val_loss', mode='min', verbose=1, patience=20)"
      ],
      "execution_count": 0,
      "outputs": []
    },
    {
      "cell_type": "markdown",
      "metadata": {
        "id": "kve2dqLDcGOF",
        "colab_type": "text"
      },
      "source": [
        ""
      ]
    },
    {
      "cell_type": "markdown",
      "metadata": {
        "id": "5F-H6VxQiCDN",
        "colab_type": "text"
      },
      "source": [
        "# 6. 모델 학습시키기"
      ]
    },
    {
      "cell_type": "code",
      "metadata": {
        "id": "zt8byFA7UczS",
        "colab_type": "code",
        "outputId": "f60821e6-b4db-4888-c118-7b6ad74be32c",
        "colab": {
          "base_uri": "https://localhost:8080/",
          "height": 1000
        }
      },
      "source": [
        "# 6.모델 학습시키기\n",
        "history = model.fit(input_data, output_data, validation_data=(input_val_data, output_val_data), epochs=1000, batch_size=4, callbacks=[])"
      ],
      "execution_count": 26,
      "outputs": [
        {
          "output_type": "stream",
          "text": [
            "Train on 5 samples, validate on 5 samples\n",
            "Epoch 1/1000\n",
            "5/5 [==============================] - 0s 38ms/step - loss: 3.8176 - mean_squared_error: 3.8176 - val_loss: 2.6156 - val_mean_squared_error: 2.6156\n",
            "Epoch 2/1000\n",
            "5/5 [==============================] - 0s 3ms/step - loss: 3.5951 - mean_squared_error: 3.5951 - val_loss: 2.5199 - val_mean_squared_error: 2.5199\n",
            "Epoch 3/1000\n",
            "5/5 [==============================] - 0s 2ms/step - loss: 3.4339 - mean_squared_error: 3.4339 - val_loss: 2.3281 - val_mean_squared_error: 2.3281\n",
            "Epoch 4/1000\n",
            "5/5 [==============================] - 0s 4ms/step - loss: 3.2693 - mean_squared_error: 3.2693 - val_loss: 2.1781 - val_mean_squared_error: 2.1781\n",
            "Epoch 5/1000\n",
            "5/5 [==============================] - 0s 3ms/step - loss: 3.1184 - mean_squared_error: 3.1184 - val_loss: 2.1262 - val_mean_squared_error: 2.1262\n",
            "Epoch 6/1000\n",
            "5/5 [==============================] - 0s 3ms/step - loss: 2.9854 - mean_squared_error: 2.9854 - val_loss: 1.9881 - val_mean_squared_error: 1.9881\n",
            "Epoch 7/1000\n",
            "5/5 [==============================] - 0s 4ms/step - loss: 2.8728 - mean_squared_error: 2.8728 - val_loss: 1.8303 - val_mean_squared_error: 1.8303\n",
            "Epoch 8/1000\n",
            "5/5 [==============================] - 0s 3ms/step - loss: 2.7581 - mean_squared_error: 2.7581 - val_loss: 1.7079 - val_mean_squared_error: 1.7079\n",
            "Epoch 9/1000\n",
            "5/5 [==============================] - 0s 3ms/step - loss: 2.6491 - mean_squared_error: 2.6491 - val_loss: 1.6417 - val_mean_squared_error: 1.6417\n",
            "Epoch 10/1000\n",
            "5/5 [==============================] - 0s 3ms/step - loss: 2.3023 - mean_squared_error: 2.3023 - val_loss: 1.5793 - val_mean_squared_error: 1.5793\n",
            "Epoch 11/1000\n",
            "5/5 [==============================] - 0s 3ms/step - loss: 2.2225 - mean_squared_error: 2.2225 - val_loss: 1.4457 - val_mean_squared_error: 1.4457\n",
            "Epoch 12/1000\n",
            "5/5 [==============================] - 0s 3ms/step - loss: 2.1111 - mean_squared_error: 2.1111 - val_loss: 1.3986 - val_mean_squared_error: 1.3986\n",
            "Epoch 13/1000\n",
            "5/5 [==============================] - 0s 3ms/step - loss: 2.0217 - mean_squared_error: 2.0217 - val_loss: 1.3476 - val_mean_squared_error: 1.3476\n",
            "Epoch 14/1000\n",
            "5/5 [==============================] - 0s 4ms/step - loss: 1.9455 - mean_squared_error: 1.9455 - val_loss: 1.2867 - val_mean_squared_error: 1.2867\n",
            "Epoch 15/1000\n",
            "5/5 [==============================] - 0s 4ms/step - loss: 1.8878 - mean_squared_error: 1.8878 - val_loss: 1.1660 - val_mean_squared_error: 1.1660\n",
            "Epoch 16/1000\n",
            "5/5 [==============================] - 0s 3ms/step - loss: 1.8022 - mean_squared_error: 1.8022 - val_loss: 1.1291 - val_mean_squared_error: 1.1291\n",
            "Epoch 17/1000\n",
            "5/5 [==============================] - 0s 3ms/step - loss: 1.7236 - mean_squared_error: 1.7236 - val_loss: 1.0161 - val_mean_squared_error: 1.0161\n",
            "Epoch 18/1000\n",
            "5/5 [==============================] - 0s 3ms/step - loss: 1.6485 - mean_squared_error: 1.6485 - val_loss: 0.9829 - val_mean_squared_error: 0.9829\n",
            "Epoch 19/1000\n",
            "5/5 [==============================] - 0s 3ms/step - loss: 1.5982 - mean_squared_error: 1.5982 - val_loss: 0.9386 - val_mean_squared_error: 0.9386\n",
            "Epoch 20/1000\n",
            "5/5 [==============================] - 0s 3ms/step - loss: 1.3998 - mean_squared_error: 1.3998 - val_loss: 0.8303 - val_mean_squared_error: 0.8303\n",
            "Epoch 21/1000\n",
            "5/5 [==============================] - 0s 3ms/step - loss: 1.3519 - mean_squared_error: 1.3519 - val_loss: 0.8157 - val_mean_squared_error: 0.8157\n",
            "Epoch 22/1000\n",
            "5/5 [==============================] - 0s 3ms/step - loss: 1.2087 - mean_squared_error: 1.2087 - val_loss: 0.8273 - val_mean_squared_error: 0.8273\n",
            "Epoch 23/1000\n",
            "5/5 [==============================] - 0s 3ms/step - loss: 1.1576 - mean_squared_error: 1.1576 - val_loss: 0.8374 - val_mean_squared_error: 0.8374\n",
            "Epoch 24/1000\n",
            "5/5 [==============================] - 0s 3ms/step - loss: 1.1411 - mean_squared_error: 1.1411 - val_loss: 0.6695 - val_mean_squared_error: 0.6695\n",
            "Epoch 25/1000\n",
            "5/5 [==============================] - 0s 3ms/step - loss: 1.0685 - mean_squared_error: 1.0685 - val_loss: 0.6531 - val_mean_squared_error: 0.6531\n",
            "Epoch 26/1000\n",
            "5/5 [==============================] - 0s 4ms/step - loss: 1.0474 - mean_squared_error: 1.0474 - val_loss: 0.4721 - val_mean_squared_error: 0.4721\n",
            "Epoch 27/1000\n",
            "5/5 [==============================] - 0s 3ms/step - loss: 0.9985 - mean_squared_error: 0.9985 - val_loss: 0.5017 - val_mean_squared_error: 0.5017\n",
            "Epoch 28/1000\n",
            "5/5 [==============================] - 0s 4ms/step - loss: 0.9894 - mean_squared_error: 0.9894 - val_loss: 0.5238 - val_mean_squared_error: 0.5238\n",
            "Epoch 29/1000\n",
            "5/5 [==============================] - 0s 4ms/step - loss: 0.9990 - mean_squared_error: 0.9990 - val_loss: 0.3890 - val_mean_squared_error: 0.3890\n",
            "Epoch 30/1000\n",
            "5/5 [==============================] - 0s 4ms/step - loss: 0.9486 - mean_squared_error: 0.9486 - val_loss: 0.4238 - val_mean_squared_error: 0.4238\n",
            "Epoch 31/1000\n",
            "5/5 [==============================] - 0s 4ms/step - loss: 0.9524 - mean_squared_error: 0.9524 - val_loss: 0.3238 - val_mean_squared_error: 0.3238\n",
            "Epoch 32/1000\n",
            "5/5 [==============================] - 0s 3ms/step - loss: 0.9360 - mean_squared_error: 0.9360 - val_loss: 0.2763 - val_mean_squared_error: 0.2763\n",
            "Epoch 33/1000\n",
            "5/5 [==============================] - 0s 5ms/step - loss: 0.9575 - mean_squared_error: 0.9575 - val_loss: 0.2505 - val_mean_squared_error: 0.2505\n",
            "Epoch 34/1000\n",
            "5/5 [==============================] - 0s 4ms/step - loss: 0.9792 - mean_squared_error: 0.9792 - val_loss: 0.2719 - val_mean_squared_error: 0.2719\n",
            "Epoch 35/1000\n",
            "5/5 [==============================] - 0s 4ms/step - loss: 0.9123 - mean_squared_error: 0.9123 - val_loss: 0.2300 - val_mean_squared_error: 0.2300\n",
            "Epoch 36/1000\n",
            "5/5 [==============================] - 0s 3ms/step - loss: 0.9144 - mean_squared_error: 0.9144 - val_loss: 0.1624 - val_mean_squared_error: 0.1624\n",
            "Epoch 37/1000\n",
            "5/5 [==============================] - 0s 3ms/step - loss: 0.8974 - mean_squared_error: 0.8974 - val_loss: 0.1117 - val_mean_squared_error: 0.1117\n",
            "Epoch 38/1000\n",
            "5/5 [==============================] - 0s 3ms/step - loss: 0.8878 - mean_squared_error: 0.8878 - val_loss: 0.0761 - val_mean_squared_error: 0.0761\n",
            "Epoch 39/1000\n",
            "5/5 [==============================] - 0s 4ms/step - loss: 0.8913 - mean_squared_error: 0.8913 - val_loss: 0.1201 - val_mean_squared_error: 0.1201\n",
            "Epoch 40/1000\n",
            "5/5 [==============================] - 0s 3ms/step - loss: 0.8478 - mean_squared_error: 0.8478 - val_loss: 0.1631 - val_mean_squared_error: 0.1631\n",
            "Epoch 41/1000\n",
            "5/5 [==============================] - 0s 4ms/step - loss: 0.8441 - mean_squared_error: 0.8441 - val_loss: 0.1840 - val_mean_squared_error: 0.1840\n",
            "Epoch 42/1000\n",
            "5/5 [==============================] - 0s 3ms/step - loss: 0.8439 - mean_squared_error: 0.8439 - val_loss: 0.1290 - val_mean_squared_error: 0.1290\n",
            "Epoch 43/1000\n",
            "5/5 [==============================] - 0s 3ms/step - loss: 0.8456 - mean_squared_error: 0.8456 - val_loss: 0.1763 - val_mean_squared_error: 0.1763\n",
            "Epoch 44/1000\n",
            "5/5 [==============================] - 0s 4ms/step - loss: 0.8678 - mean_squared_error: 0.8678 - val_loss: 0.0978 - val_mean_squared_error: 0.0978\n",
            "Epoch 45/1000\n",
            "5/5 [==============================] - 0s 5ms/step - loss: 0.8430 - mean_squared_error: 0.8430 - val_loss: 0.1512 - val_mean_squared_error: 0.1512\n",
            "Epoch 46/1000\n",
            "5/5 [==============================] - 0s 4ms/step - loss: 0.8361 - mean_squared_error: 0.8361 - val_loss: 0.1081 - val_mean_squared_error: 0.1081\n",
            "Epoch 47/1000\n",
            "5/5 [==============================] - 0s 4ms/step - loss: 0.8361 - mean_squared_error: 0.8361 - val_loss: 0.0816 - val_mean_squared_error: 0.0816\n",
            "Epoch 48/1000\n",
            "5/5 [==============================] - 0s 3ms/step - loss: 0.8611 - mean_squared_error: 0.8611 - val_loss: 0.0443 - val_mean_squared_error: 0.0443\n",
            "Epoch 49/1000\n",
            "5/5 [==============================] - 0s 4ms/step - loss: 0.8567 - mean_squared_error: 0.8567 - val_loss: 0.0372 - val_mean_squared_error: 0.0372\n",
            "Epoch 50/1000\n",
            "5/5 [==============================] - 0s 3ms/step - loss: 0.8597 - mean_squared_error: 0.8597 - val_loss: 0.0747 - val_mean_squared_error: 0.0747\n",
            "Epoch 51/1000\n",
            "5/5 [==============================] - 0s 4ms/step - loss: 0.8180 - mean_squared_error: 0.8180 - val_loss: 0.0961 - val_mean_squared_error: 0.0961\n",
            "Epoch 52/1000\n",
            "5/5 [==============================] - 0s 3ms/step - loss: 0.8303 - mean_squared_error: 0.8303 - val_loss: 0.0710 - val_mean_squared_error: 0.0710\n",
            "Epoch 53/1000\n",
            "5/5 [==============================] - 0s 3ms/step - loss: 0.8481 - mean_squared_error: 0.8481 - val_loss: 0.1150 - val_mean_squared_error: 0.1150\n",
            "Epoch 54/1000\n",
            "5/5 [==============================] - 0s 3ms/step - loss: 0.8016 - mean_squared_error: 0.8016 - val_loss: 0.1556 - val_mean_squared_error: 0.1556\n",
            "Epoch 55/1000\n",
            "5/5 [==============================] - 0s 3ms/step - loss: 0.7984 - mean_squared_error: 0.7984 - val_loss: 0.1688 - val_mean_squared_error: 0.1688\n",
            "Epoch 56/1000\n",
            "5/5 [==============================] - 0s 4ms/step - loss: 0.8028 - mean_squared_error: 0.8028 - val_loss: 0.2006 - val_mean_squared_error: 0.2006\n",
            "Epoch 57/1000\n",
            "5/5 [==============================] - 0s 4ms/step - loss: 0.8271 - mean_squared_error: 0.8271 - val_loss: 0.1433 - val_mean_squared_error: 0.1433\n",
            "Epoch 58/1000\n",
            "5/5 [==============================] - 0s 4ms/step - loss: 0.8111 - mean_squared_error: 0.8111 - val_loss: 0.1781 - val_mean_squared_error: 0.1781\n",
            "Epoch 59/1000\n",
            "5/5 [==============================] - 0s 4ms/step - loss: 0.8117 - mean_squared_error: 0.8117 - val_loss: 0.1263 - val_mean_squared_error: 0.1263\n",
            "Epoch 60/1000\n",
            "5/5 [==============================] - 0s 4ms/step - loss: 0.8020 - mean_squared_error: 0.8020 - val_loss: 0.0904 - val_mean_squared_error: 0.0904\n",
            "Epoch 61/1000\n",
            "5/5 [==============================] - 0s 3ms/step - loss: 0.7944 - mean_squared_error: 0.7944 - val_loss: 0.1118 - val_mean_squared_error: 0.1118\n",
            "Epoch 62/1000\n",
            "5/5 [==============================] - 0s 4ms/step - loss: 0.8008 - mean_squared_error: 0.8008 - val_loss: 0.1637 - val_mean_squared_error: 0.1637\n",
            "Epoch 63/1000\n",
            "5/5 [==============================] - 0s 3ms/step - loss: 0.8154 - mean_squared_error: 0.8154 - val_loss: 0.0974 - val_mean_squared_error: 0.0974\n",
            "Epoch 64/1000\n",
            "5/5 [==============================] - 0s 4ms/step - loss: 0.7899 - mean_squared_error: 0.7899 - val_loss: 0.0703 - val_mean_squared_error: 0.0703\n",
            "Epoch 65/1000\n",
            "5/5 [==============================] - 0s 4ms/step - loss: 0.7908 - mean_squared_error: 0.7908 - val_loss: 0.1140 - val_mean_squared_error: 0.1140\n",
            "Epoch 66/1000\n",
            "5/5 [==============================] - 0s 3ms/step - loss: 0.7807 - mean_squared_error: 0.7807 - val_loss: 0.1532 - val_mean_squared_error: 0.1532\n",
            "Epoch 67/1000\n",
            "5/5 [==============================] - 0s 4ms/step - loss: 0.8057 - mean_squared_error: 0.8057 - val_loss: 0.1244 - val_mean_squared_error: 0.1244\n",
            "Epoch 68/1000\n",
            "5/5 [==============================] - 0s 4ms/step - loss: 0.8257 - mean_squared_error: 0.8257 - val_loss: 0.1625 - val_mean_squared_error: 0.1625\n",
            "Epoch 69/1000\n",
            "5/5 [==============================] - 0s 3ms/step - loss: 0.7990 - mean_squared_error: 0.7990 - val_loss: 0.1207 - val_mean_squared_error: 0.1207\n",
            "Epoch 00069: early stopping\n"
          ],
          "name": "stdout"
        }
      ]
    },
    {
      "cell_type": "markdown",
      "metadata": {
        "id": "ClX-yYJBaXo4",
        "colab_type": "text"
      },
      "source": [
        "# 7.결과 출력"
      ]
    },
    {
      "cell_type": "code",
      "metadata": {
        "id": "CzxycS1laEdO",
        "colab_type": "code",
        "outputId": "fc866cd4-0c45-49fe-f7b0-6798496dbeb1",
        "colab": {
          "base_uri": "https://localhost:8080/",
          "height": 286
        }
      },
      "source": [
        "# Loss 출력\n",
        "\n",
        "print(history.history.keys())\n",
        "plt.plot(history.history['loss'])\n",
        "plt.plot(history.history['val_loss'])\n",
        "plt.legend(('train_loss', 'val_loss'))\n",
        "plt.show()"
      ],
      "execution_count": 27,
      "outputs": [
        {
          "output_type": "stream",
          "text": [
            "dict_keys(['val_loss', 'val_mean_squared_error', 'loss', 'mean_squared_error'])\n"
          ],
          "name": "stdout"
        },
        {
          "output_type": "display_data",
          "data": {
            "image/png": "[encoded data removed]",
            "text/plain": [
              "<Figure size 432x288 with 1 Axes>"
            ]
          },
          "metadata": {
            "tags": []
          }
        }
      ]
    },
    {
      "cell_type": "code",
      "metadata": {
        "colab_type": "code",
        "id": "DcbA7CkYH5IW",
        "scrolled": false,
        "outputId": "dc6a5f99-8da8-4fae-e9d0-2745e4dbaae3",
        "colab": {
          "base_uri": "https://localhost:8080/",
          "height": 269
        }
      },
      "source": [
        "# 예측값 출력\n",
        "yhat = model.predict(input_data)\n",
        "\n",
        "plt.plot(input_data, yhat)\n",
        "plt.plot(input_data, output_data, 'o')\n",
        "plt.plot(input_val_data, output_val_data, 'o')\n",
        "plt.plot(input_test_data, output_test_data, 'o')\n",
        "#plt.legend(('model', 'train'))\n",
        "plt.legend(('model', 'train', 'val', 'test'))\n",
        "plt.show()"
      ],
      "execution_count": 28,
      "outputs": [
        {
          "output_type": "display_data",
          "data": {
            "image/png": "[encoded data removed]",
            "text/plain": [
              "<Figure size 432x288 with 1 Axes>"
            ]
          },
          "metadata": {
            "tags": []
          }
        }
      ]
    },
    {
      "cell_type": "markdown",
      "metadata": {
        "id": "b4Y3wESn3dnk",
        "colab_type": "text"
      },
      "source": [
        "#7.결과 출력"
      ]
    },
    {
      "cell_type": "code",
      "metadata": {
        "id": "2UGFaLiZf1yk",
        "colab_type": "code",
        "outputId": "9a087f3b-810d-4f46-b95f-401136637c53",
        "colab": {
          "base_uri": "https://localhost:8080/",
          "height": 119
        }
      },
      "source": [
        "result = model.evaluate(input_data, output_data)\n",
        "print(result)\n",
        "result = model.evaluate(input_val_data, output_val_data)\n",
        "print(result)\n",
        "result = model.evaluate(input_test_data, output_test_data)\n",
        "print(result)"
      ],
      "execution_count": 21,
      "outputs": [
        {
          "output_type": "stream",
          "text": [
            "5/5 [==============================] - 0s 1ms/step\n",
            "[6.294845888987766e-07, 6.294845888987766e-07]\n",
            "5/5 [==============================] - 0s 1ms/step\n",
            "[0.8184221386909485, 0.8184221386909485]\n",
            "5/5 [==============================] - 0s 652us/step\n",
            "[1.0561254024505615, 1.0561254024505615]\n"
          ],
          "name": "stdout"
        }
      ]
    },
    {
      "cell_type": "code",
      "metadata": {
        "id": "NezH-81H3x-8",
        "colab_type": "code",
        "colab": {}
      },
      "source": [
        ""
      ],
      "execution_count": 0,
      "outputs": []
    }
  ]
}