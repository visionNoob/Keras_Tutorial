{
  "nbformat": 4,
  "nbformat_minor": 0,
  "metadata": {
    "colab": {
      "name": "Untitled4.ipynb",
      "provenance": [],
      "include_colab_link": true
    },
    "kernelspec": {
      "name": "python3",
      "display_name": "Python 3"
    }
  },
  "cells": [
    {
      "cell_type": "markdown",
      "metadata": {
        "id": "view-in-github",
        "colab_type": "text"
      },
      "source": [
        "<a href=\"https://colab.research.google.com/github/visionNoob/Keras_Tutorial/blob/master/additional_layer.ipynb\" target=\"_parent\"><img src=\"https://colab.research.google.com/assets/colab-badge.svg\" alt=\"Open In Colab\"/></a>"
      ]
    },
    {
      "cell_type": "code",
      "metadata": {
        "id": "v4O_ow0s2Jys",
        "colab_type": "code",
        "colab": {}
      },
      "source": [
        "import keras\n",
        "from keras.utils import np_utils\n",
        "from keras.datasets import mnist\n",
        "from keras.models import Sequential\n",
        "from keras.layers import Dense, Activation\n",
        "from keras import backend as K\n"
      ],
      "execution_count": 0,
      "outputs": []
    },
    {
      "cell_type": "code",
      "metadata": {
        "id": "VoliEx602LNp",
        "colab_type": "code",
        "colab": {}
      },
      "source": [
        "def pre_processing_layer(input_shape): \n",
        "    def pre_process(x):\n",
        "        return K.reshape(x,(-1,784)) / 255.0\n",
        "    return keras.layers.Lambda(pre_process,input_shape=input_shape, name='preprocessing')"
      ],
      "execution_count": 0,
      "outputs": []
    },
    {
      "cell_type": "code",
      "metadata": {
        "id": "_LEKYNE_2PjJ",
        "colab_type": "code",
        "colab": {}
      },
      "source": [
        "def post_processing_layer():\n",
        "    def post_process(x):\n",
        "        return K.argmax(x)\n",
        "    return keras.layers.Lambda(post_process, name='postprocessing')\n",
        "        "
      ],
      "execution_count": 0,
      "outputs": []
    },
    {
      "cell_type": "code",
      "metadata": {
        "id": "b423GGg_2Qrq",
        "colab_type": "code",
        "colab": {
          "base_uri": "https://localhost:8080/",
          "height": 51
        },
        "outputId": "03dfd283-cd60-406d-d602-f373211c395e"
      },
      "source": [
        "# 1. 데이터셋 생성하기\n",
        "(x_train, y_train), (x_test, y_test) = mnist.load_data()\n",
        "y_train = np_utils.to_categorical(y_train)\n",
        "y_test = np_utils.to_categorical(y_test)"
      ],
      "execution_count": 7,
      "outputs": [
        {
          "output_type": "stream",
          "text": [
            "Downloading data from https://s3.amazonaws.com/img-datasets/mnist.npz\n",
            "11493376/11490434 [==============================] - 1s 0us/step\n"
          ],
          "name": "stdout"
        }
      ]
    },
    {
      "cell_type": "code",
      "metadata": {
        "id": "P6xj-_Pt2clZ",
        "colab_type": "code",
        "colab": {
          "base_uri": "https://localhost:8080/",
          "height": 272
        },
        "outputId": "dbfb7abe-8586-407f-8aa9-b6b93c704007"
      },
      "source": [
        "# 2. 모델 구성하기\n",
        "input_shape = (28, 28)\n",
        "output_shape = (784,)\n",
        "model_for_training = Sequential()\n",
        "model_for_training.add(pre_processing_layer(input_shape))\n",
        "model_for_training.add(Dense(units=64, input_dim=28*28, activation='relu'))\n",
        "model_for_training.add(Dense(units=10, activation='softmax'))\n",
        "print(model_for_training.summary())"
      ],
      "execution_count": 12,
      "outputs": [
        {
          "output_type": "stream",
          "text": [
            "Model: \"sequential_3\"\n",
            "_________________________________________________________________\n",
            "Layer (type)                 Output Shape              Param #   \n",
            "=================================================================\n",
            "preprocessing (Lambda)       (None, 784)               0         \n",
            "_________________________________________________________________\n",
            "dense_3 (Dense)              (None, 64)                50240     \n",
            "_________________________________________________________________\n",
            "dense_4 (Dense)              (None, 10)                650       \n",
            "=================================================================\n",
            "Total params: 50,890\n",
            "Trainable params: 50,890\n",
            "Non-trainable params: 0\n",
            "_________________________________________________________________\n",
            "None\n"
          ],
          "name": "stdout"
        }
      ]
    },
    {
      "cell_type": "code",
      "metadata": {
        "id": "kd7ViqCq2iib",
        "colab_type": "code",
        "colab": {
          "base_uri": "https://localhost:8080/",
          "height": 71
        },
        "outputId": "dddaf620-6562-4e03-f395-886a66ac7618"
      },
      "source": [
        "model_for_training.compile(loss='categorical_crossentropy', optimizer='sgd', metrics=['accuracy'])"
      ],
      "execution_count": 13,
      "outputs": [
        {
          "output_type": "stream",
          "text": [
            "WARNING:tensorflow:From /usr/local/lib/python3.6/dist-packages/keras/optimizers.py:793: The name tf.train.Optimizer is deprecated. Please use tf.compat.v1.train.Optimizer instead.\n",
            "\n"
          ],
          "name": "stdout"
        }
      ]
    },
    {
      "cell_type": "code",
      "metadata": {
        "id": "4aaR-btk2pMS",
        "colab_type": "code",
        "colab": {
          "base_uri": "https://localhost:8080/",
          "height": 258
        },
        "outputId": "d3c97207-3efe-40ad-b6ce-1f80a1ee3476"
      },
      "source": [
        "hist = model_for_training.fit(x_train, y_train, epochs=5, batch_size=32)"
      ],
      "execution_count": 15,
      "outputs": [
        {
          "output_type": "stream",
          "text": [
            "WARNING:tensorflow:From /usr/local/lib/python3.6/dist-packages/tensorflow_core/python/ops/math_grad.py:1424: where (from tensorflow.python.ops.array_ops) is deprecated and will be removed in a future version.\n",
            "Instructions for updating:\n",
            "Use tf.where in 2.0, which has the same broadcast rule as np.where\n",
            "Epoch 1/5\n",
            "60000/60000 [==============================] - 4s 66us/step - loss: 0.6901 - acc: 0.8223\n",
            "Epoch 2/5\n",
            "60000/60000 [==============================] - 3s 53us/step - loss: 0.3502 - acc: 0.9030\n",
            "Epoch 3/5\n",
            "60000/60000 [==============================] - 3s 52us/step - loss: 0.3042 - acc: 0.9148\n",
            "Epoch 4/5\n",
            "60000/60000 [==============================] - 3s 54us/step - loss: 0.2765 - acc: 0.9228\n",
            "Epoch 5/5\n",
            "60000/60000 [==============================] - 3s 54us/step - loss: 0.2551 - acc: 0.9280\n"
          ],
          "name": "stdout"
        }
      ]
    },
    {
      "cell_type": "code",
      "metadata": {
        "id": "8LEJY1ND2xO6",
        "colab_type": "code",
        "colab": {}
      },
      "source": [
        "model_for_prediction = Sequential()\n",
        "model_for_prediction.add(model_for_training)\n",
        "model_for_prediction.add(post_processing_layer())"
      ],
      "execution_count": 0,
      "outputs": []
    },
    {
      "cell_type": "code",
      "metadata": {
        "id": "0WSLjN_s28Qx",
        "colab_type": "code",
        "colab": {
          "base_uri": "https://localhost:8080/",
          "height": 68
        },
        "outputId": "141511c6-06be-4d29-b75d-78dbd656eae0"
      },
      "source": [
        "xhat = x_test[0:1]\n",
        "print(model_for_training.predict(xhat))\n",
        "print(model_for_prediction.predict(xhat))"
      ],
      "execution_count": 17,
      "outputs": [
        {
          "output_type": "stream",
          "text": [
            "[[5.0657720e-05 3.7735660e-07 6.7923189e-04 1.8569399e-03 8.4185440e-06\n",
            "  8.6946893e-05 3.9623625e-08 9.9674952e-01 2.9928500e-05 5.3793291e-04]]\n",
            "[7]\n"
          ],
          "name": "stdout"
        }
      ]
    },
    {
      "cell_type": "code",
      "metadata": {
        "id": "4wMSqPOB3EZ2",
        "colab_type": "code",
        "colab": {}
      },
      "source": [
        ""
      ],
      "execution_count": 0,
      "outputs": []
    }
  ]
}